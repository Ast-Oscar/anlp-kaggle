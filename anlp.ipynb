{
  "cells": [
    {
      "cell_type": "markdown",
      "metadata": {
        "id": "JX5KzENbNkJz"
      },
      "source": [
        "# Kaggle Competition\n",
        "\n",
        "## Auteurs : Oscar Pastural, Clément Florval, Louis Gauthier\n",
        "\n",
        "---\n",
        "## 0. Installation des dépendances nécessaires"
      ]
    },
    {
      "cell_type": "code",
      "execution_count": 118,
      "metadata": {
        "colab": {
          "base_uri": "https://localhost:8080/"
        },
        "id": "A_o-hhFNIoe7",
        "outputId": "bc4ae3bb-6347-4eba-d0e3-980891edc0de"
      },
      "outputs": [
        {
          "name": "stderr",
          "output_type": "stream",
          "text": [
            "huggingface/tokenizers: The current process just got forked, after parallelism has already been used. Disabling parallelism to avoid deadlocks...\n",
            "To disable this warning, you can either:\n",
            "\t- Avoid using `tokenizers` before the fork if possible\n",
            "\t- Explicitly set the environment variable TOKENIZERS_PARALLELISM=(true | false)\n"
          ]
        },
        {
          "name": "stdout",
          "output_type": "stream",
          "text": [
            "Collecting git+https://github.com/thomas-ferraz/fastText.git@0ffafb256d3f6325f8e5dbd527b4e22c1a7e49d2\n",
            "  Cloning https://github.com/thomas-ferraz/fastText.git (to revision 0ffafb256d3f6325f8e5dbd527b4e22c1a7e49d2) to /private/var/folders/_8/vpwl6kq551v_bt6m3llx5n9c0000gn/T/pip-req-build-ue3v0sro\n",
            "  Running command git clone --filter=blob:none --quiet https://github.com/thomas-ferraz/fastText.git /private/var/folders/_8/vpwl6kq551v_bt6m3llx5n9c0000gn/T/pip-req-build-ue3v0sro\n",
            "  Running command git rev-parse -q --verify 'sha^0ffafb256d3f6325f8e5dbd527b4e22c1a7e49d2'\n",
            "  Running command git fetch -q https://github.com/thomas-ferraz/fastText.git 0ffafb256d3f6325f8e5dbd527b4e22c1a7e49d2\n",
            "  Running command git checkout -q 0ffafb256d3f6325f8e5dbd527b4e22c1a7e49d2\n",
            "  Resolved https://github.com/thomas-ferraz/fastText.git to commit 0ffafb256d3f6325f8e5dbd527b4e22c1a7e49d2\n",
            "  Installing build dependencies ... \u001b[?25ldone\n",
            "\u001b[?25h  Getting requirements to build wheel ... \u001b[?25ldone\n",
            "\u001b[?25h  Preparing metadata (pyproject.toml) ... \u001b[?25ldone\n",
            "\u001b[?25hRequirement already satisfied: transformers in ./.venv/lib/python3.11/site-packages (4.49.0)\n",
            "Requirement already satisfied: datasets in ./.venv/lib/python3.11/site-packages (3.3.2)\n",
            "Requirement already satisfied: scikit-learn in ./.venv/lib/python3.11/site-packages (1.6.1)\n",
            "Requirement already satisfied: evaluate in ./.venv/lib/python3.11/site-packages (0.4.3)\n",
            "Requirement already satisfied: pandas in ./.venv/lib/python3.11/site-packages (2.2.3)\n",
            "Requirement already satisfied: matplotlib in ./.venv/lib/python3.11/site-packages (3.10.0)\n",
            "Requirement already satisfied: seaborn in ./.venv/lib/python3.11/site-packages (0.13.2)\n",
            "Requirement already satisfied: torch in ./.venv/lib/python3.11/site-packages (2.6.0)\n",
            "Requirement already satisfied: torchvision in ./.venv/lib/python3.11/site-packages (0.21.0)\n",
            "Requirement already satisfied: torchaudio in ./.venv/lib/python3.11/site-packages (2.6.0)\n",
            "Requirement already satisfied: filelock in ./.venv/lib/python3.11/site-packages (from transformers) (3.17.0)\n",
            "Requirement already satisfied: huggingface-hub<1.0,>=0.26.0 in ./.venv/lib/python3.11/site-packages (from transformers) (0.29.1)\n",
            "Requirement already satisfied: numpy>=1.17 in ./.venv/lib/python3.11/site-packages (from transformers) (2.2.3)\n",
            "Requirement already satisfied: packaging>=20.0 in ./.venv/lib/python3.11/site-packages (from transformers) (24.2)\n",
            "Requirement already satisfied: pyyaml>=5.1 in ./.venv/lib/python3.11/site-packages (from transformers) (6.0.2)\n",
            "Requirement already satisfied: regex!=2019.12.17 in ./.venv/lib/python3.11/site-packages (from transformers) (2024.11.6)\n",
            "Requirement already satisfied: requests in ./.venv/lib/python3.11/site-packages (from transformers) (2.32.3)\n",
            "Requirement already satisfied: tokenizers<0.22,>=0.21 in ./.venv/lib/python3.11/site-packages (from transformers) (0.21.0)\n",
            "Requirement already satisfied: safetensors>=0.4.1 in ./.venv/lib/python3.11/site-packages (from transformers) (0.5.3)\n",
            "Requirement already satisfied: tqdm>=4.27 in ./.venv/lib/python3.11/site-packages (from transformers) (4.67.1)\n",
            "Requirement already satisfied: pyarrow>=15.0.0 in ./.venv/lib/python3.11/site-packages (from datasets) (19.0.1)\n",
            "Requirement already satisfied: dill<0.3.9,>=0.3.0 in ./.venv/lib/python3.11/site-packages (from datasets) (0.3.8)\n",
            "Requirement already satisfied: xxhash in ./.venv/lib/python3.11/site-packages (from datasets) (3.5.0)\n",
            "Requirement already satisfied: multiprocess<0.70.17 in ./.venv/lib/python3.11/site-packages (from datasets) (0.70.16)\n",
            "Requirement already satisfied: fsspec<=2024.12.0,>=2023.1.0 in ./.venv/lib/python3.11/site-packages (from fsspec[http]<=2024.12.0,>=2023.1.0->datasets) (2024.12.0)\n",
            "Requirement already satisfied: aiohttp in ./.venv/lib/python3.11/site-packages (from datasets) (3.11.13)\n",
            "Requirement already satisfied: scipy>=1.6.0 in ./.venv/lib/python3.11/site-packages (from scikit-learn) (1.15.2)\n",
            "Requirement already satisfied: joblib>=1.2.0 in ./.venv/lib/python3.11/site-packages (from scikit-learn) (1.4.2)\n",
            "Requirement already satisfied: threadpoolctl>=3.1.0 in ./.venv/lib/python3.11/site-packages (from scikit-learn) (3.5.0)\n",
            "Requirement already satisfied: python-dateutil>=2.8.2 in ./.venv/lib/python3.11/site-packages (from pandas) (2.9.0.post0)\n",
            "Requirement already satisfied: pytz>=2020.1 in ./.venv/lib/python3.11/site-packages (from pandas) (2025.1)\n",
            "Requirement already satisfied: tzdata>=2022.7 in ./.venv/lib/python3.11/site-packages (from pandas) (2025.1)\n",
            "Requirement already satisfied: contourpy>=1.0.1 in ./.venv/lib/python3.11/site-packages (from matplotlib) (1.3.1)\n",
            "Requirement already satisfied: cycler>=0.10 in ./.venv/lib/python3.11/site-packages (from matplotlib) (0.12.1)\n",
            "Requirement already satisfied: fonttools>=4.22.0 in ./.venv/lib/python3.11/site-packages (from matplotlib) (4.56.0)\n",
            "Requirement already satisfied: kiwisolver>=1.3.1 in ./.venv/lib/python3.11/site-packages (from matplotlib) (1.4.8)\n",
            "Requirement already satisfied: pillow>=8 in ./.venv/lib/python3.11/site-packages (from matplotlib) (11.1.0)\n",
            "Requirement already satisfied: pyparsing>=2.3.1 in ./.venv/lib/python3.11/site-packages (from matplotlib) (3.2.1)\n",
            "Requirement already satisfied: typing-extensions>=4.10.0 in ./.venv/lib/python3.11/site-packages (from torch) (4.12.2)\n",
            "Requirement already satisfied: networkx in ./.venv/lib/python3.11/site-packages (from torch) (3.4.2)\n",
            "Requirement already satisfied: jinja2 in ./.venv/lib/python3.11/site-packages (from torch) (3.1.5)\n",
            "Requirement already satisfied: sympy==1.13.1 in ./.venv/lib/python3.11/site-packages (from torch) (1.13.1)\n",
            "Requirement already satisfied: mpmath<1.4,>=1.1.0 in ./.venv/lib/python3.11/site-packages (from sympy==1.13.1->torch) (1.3.0)\n",
            "Requirement already satisfied: accelerate>=0.26.0 in ./.venv/lib/python3.11/site-packages (from transformers[torch]) (1.4.0)\n",
            "Requirement already satisfied: pybind11>=2.2 in ./.venv/lib/python3.11/site-packages (from fasttext==0.9.2) (2.13.6)\n",
            "Requirement already satisfied: setuptools>=0.7.0 in ./.venv/lib/python3.11/site-packages (from fasttext==0.9.2) (65.5.0)\n",
            "Requirement already satisfied: psutil in ./.venv/lib/python3.11/site-packages (from accelerate>=0.26.0->transformers[torch]) (7.0.0)\n",
            "Requirement already satisfied: aiohappyeyeballs>=2.3.0 in ./.venv/lib/python3.11/site-packages (from aiohttp->datasets) (2.4.6)\n",
            "Requirement already satisfied: aiosignal>=1.1.2 in ./.venv/lib/python3.11/site-packages (from aiohttp->datasets) (1.3.2)\n",
            "Requirement already satisfied: attrs>=17.3.0 in ./.venv/lib/python3.11/site-packages (from aiohttp->datasets) (25.1.0)\n",
            "Requirement already satisfied: frozenlist>=1.1.1 in ./.venv/lib/python3.11/site-packages (from aiohttp->datasets) (1.5.0)\n",
            "Requirement already satisfied: multidict<7.0,>=4.5 in ./.venv/lib/python3.11/site-packages (from aiohttp->datasets) (6.1.0)\n",
            "Requirement already satisfied: propcache>=0.2.0 in ./.venv/lib/python3.11/site-packages (from aiohttp->datasets) (0.3.0)\n",
            "Requirement already satisfied: yarl<2.0,>=1.17.0 in ./.venv/lib/python3.11/site-packages (from aiohttp->datasets) (1.18.3)\n",
            "Requirement already satisfied: six>=1.5 in ./.venv/lib/python3.11/site-packages (from python-dateutil>=2.8.2->pandas) (1.17.0)\n",
            "Requirement already satisfied: charset-normalizer<4,>=2 in ./.venv/lib/python3.11/site-packages (from requests->transformers) (3.4.1)\n",
            "Requirement already satisfied: idna<4,>=2.5 in ./.venv/lib/python3.11/site-packages (from requests->transformers) (3.10)\n",
            "Requirement already satisfied: urllib3<3,>=1.21.1 in ./.venv/lib/python3.11/site-packages (from requests->transformers) (2.3.0)\n",
            "Requirement already satisfied: certifi>=2017.4.17 in ./.venv/lib/python3.11/site-packages (from requests->transformers) (2025.1.31)\n",
            "Requirement already satisfied: MarkupSafe>=2.0 in ./.venv/lib/python3.11/site-packages (from jinja2->torch) (3.0.2)\n",
            "\n",
            "\u001b[1m[\u001b[0m\u001b[34;49mnotice\u001b[0m\u001b[1;39;49m]\u001b[0m\u001b[39;49m A new release of pip is available: \u001b[0m\u001b[31;49m24.0\u001b[0m\u001b[39;49m -> \u001b[0m\u001b[32;49m25.0.1\u001b[0m\n",
            "\u001b[1m[\u001b[0m\u001b[34;49mnotice\u001b[0m\u001b[1;39;49m]\u001b[0m\u001b[39;49m To update, run: \u001b[0m\u001b[32;49mpip install --upgrade pip\u001b[0m\n",
            "Note: you may need to restart the kernel to use updated packages.\n"
          ]
        }
      ],
      "source": [
        "%pip install transformers datasets scikit-learn evaluate pandas matplotlib seaborn torch torchvision torchaudio \"transformers[torch]\" \"git+https://github.com/thomas-ferraz/fastText.git@0ffafb256d3f6325f8e5dbd527b4e22c1a7e49d2\""
      ]
    },
    {
      "cell_type": "markdown",
      "metadata": {
        "id": "bDIb2DnYOBJz"
      },
      "source": [
        "## 0.5 Import des librairies"
      ]
    },
    {
      "cell_type": "code",
      "execution_count": null,
      "metadata": {
        "id": "MjyTpz9qODwT"
      },
      "outputs": [
        {
          "name": "stderr",
          "output_type": "stream",
          "text": [
            "/Users/louisgauthier/Documents/CentraleSupelec/NLP/anlp-kaggle/.venv/lib/python3.11/site-packages/tqdm/auto.py:21: TqdmWarning: IProgress not found. Please update jupyter and ipywidgets. See https://ipywidgets.readthedocs.io/en/stable/user_install.html\n",
            "  from .autonotebook import tqdm as notebook_tqdm\n"
          ]
        }
      ],
      "source": [
        "import pandas as pd\n",
        "import numpy as np\n",
        "from datasets import Dataset\n",
        "from transformers import AutoTokenizer, AutoModelForSequenceClassification, Trainer, TrainingArguments\n",
        "from sklearn.preprocessing import LabelEncoder\n",
        "import evaluate\n",
        "import torch\n",
        "import os"
      ]
    },
    {
      "cell_type": "code",
      "execution_count": null,
      "metadata": {},
      "outputs": [
        {
          "name": "stdout",
          "output_type": "stream",
          "text": [
            "Using device: mps\n"
          ]
        }
      ],
      "source": [
        "# Set the device to be used\n",
        "device = \"cuda\" if torch.cuda.is_available() else \"mps\" if torch.mps.is_available() else \"cpu\"\n",
        "print(f\"Using device: {device}\")\n",
        "\n",
        "# If cache directory doesn't exist, create it\n",
        "cache_dir = \"cache\"\n",
        "os.makedirs(cache_dir, exist_ok=True)"
      ]
    },
    {
      "cell_type": "markdown",
      "metadata": {
        "id": "tMwbIexUPKtc"
      },
      "source": [
        "## 1. Import et EDA"
      ]
    },
    {
      "cell_type": "code",
      "execution_count": 3,
      "metadata": {
        "id": "nysC0yZHPKEr"
      },
      "outputs": [],
      "source": [
        "train_df = pd.read_csv(\"data/train_submission.csv\")\n",
        "test_df = pd.read_csv(\"data/test_without_labels.csv\")"
      ]
    },
    {
      "cell_type": "code",
      "execution_count": 4,
      "metadata": {},
      "outputs": [
        {
          "name": "stdout",
          "output_type": "stream",
          "text": [
            "Aperçu du jeu de données d'entraînement :\n"
          ]
        },
        {
          "data": {
            "text/html": [
              "<div>\n",
              "<style scoped>\n",
              "    .dataframe tbody tr th:only-of-type {\n",
              "        vertical-align: middle;\n",
              "    }\n",
              "\n",
              "    .dataframe tbody tr th {\n",
              "        vertical-align: top;\n",
              "    }\n",
              "\n",
              "    .dataframe thead th {\n",
              "        text-align: right;\n",
              "    }\n",
              "</style>\n",
              "<table border=\"1\" class=\"dataframe\">\n",
              "  <thead>\n",
              "    <tr style=\"text-align: right;\">\n",
              "      <th></th>\n",
              "      <th>Usage</th>\n",
              "      <th>Text</th>\n",
              "      <th>Label</th>\n",
              "    </tr>\n",
              "  </thead>\n",
              "  <tbody>\n",
              "    <tr>\n",
              "      <th>0</th>\n",
              "      <td>Public</td>\n",
              "      <td>َ قَالَ النَّبِيُّ ص إِنِّي أَتَعَجَّبُ مِمَّن...</td>\n",
              "      <td>hau</td>\n",
              "    </tr>\n",
              "    <tr>\n",
              "      <th>1</th>\n",
              "      <td>Public</td>\n",
              "      <td>Filmen forteller historien om Will Hunting  en...</td>\n",
              "      <td>nob</td>\n",
              "    </tr>\n",
              "    <tr>\n",
              "      <th>2</th>\n",
              "      <td>Public</td>\n",
              "      <td>An Arthrostylidium berryi in uska species han ...</td>\n",
              "      <td>wln</td>\n",
              "    </tr>\n",
              "    <tr>\n",
              "      <th>3</th>\n",
              "      <td>Public</td>\n",
              "      <td>Kancunarí enemigosniyquichejta munacuychej  al...</td>\n",
              "      <td>quh</td>\n",
              "    </tr>\n",
              "    <tr>\n",
              "      <th>4</th>\n",
              "      <td>Public</td>\n",
              "      <td>Warmeqa ama yachachichunchu hermanospa tantaku...</td>\n",
              "      <td>quh</td>\n",
              "    </tr>\n",
              "  </tbody>\n",
              "</table>\n",
              "</div>"
            ],
            "text/plain": [
              "    Usage                                               Text Label\n",
              "0  Public  َ قَالَ النَّبِيُّ ص إِنِّي أَتَعَجَّبُ مِمَّن...   hau\n",
              "1  Public  Filmen forteller historien om Will Hunting  en...   nob\n",
              "2  Public  An Arthrostylidium berryi in uska species han ...   wln\n",
              "3  Public  Kancunarí enemigosniyquichejta munacuychej  al...   quh\n",
              "4  Public  Warmeqa ama yachachichunchu hermanospa tantaku...   quh"
            ]
          },
          "metadata": {},
          "output_type": "display_data"
        },
        {
          "name": "stdout",
          "output_type": "stream",
          "text": [
            "Dimensions du dataset train : (190599, 3)\n",
            "Dimensions du dataset test : (190567, 2)\n"
          ]
        }
      ],
      "source": [
        "# Afficher les 5 premières lignes du jeu de données d'entraînement\n",
        "print(\"Aperçu du jeu de données d'entraînement :\")\n",
        "display(train_df.head())\n",
        "\n",
        "# Afficher la taille (nombre de lignes et colonnes) des datasets train et test\n",
        "print(f\"Dimensions du dataset train : {train_df.shape}\")\n",
        "print(f\"Dimensions du dataset test : {test_df.shape}\")"
      ]
    },
    {
      "cell_type": "markdown",
      "metadata": {},
      "source": [
        "### Informations générales et valeurs manquantes"
      ]
    },
    {
      "cell_type": "code",
      "execution_count": 5,
      "metadata": {},
      "outputs": [
        {
          "name": "stdout",
          "output_type": "stream",
          "text": [
            "Infos sur le dataset train :\n",
            "<class 'pandas.core.frame.DataFrame'>\n",
            "RangeIndex: 190599 entries, 0 to 190598\n",
            "Data columns (total 3 columns):\n",
            " #   Column  Non-Null Count   Dtype \n",
            "---  ------  --------------   ----- \n",
            " 0   Usage   190599 non-null  object\n",
            " 1   Text    190599 non-null  object\n",
            " 2   Label   190099 non-null  object\n",
            "dtypes: object(3)\n",
            "memory usage: 4.4+ MB\n",
            "\n",
            "Nombre de valeurs manquantes par colonne dans le dataset train :\n",
            "Usage      0\n",
            "Text       0\n",
            "Label    500\n",
            "dtype: int64\n",
            "\n",
            "Nombre de valeurs manquantes par colonne dans le dataset test :\n",
            "Usage    0\n",
            "Text     0\n",
            "dtype: int64\n"
          ]
        }
      ],
      "source": [
        "# Afficher des informations générales sur le dataset (types, non-null, etc.)\n",
        "print(\"Infos sur le dataset train :\")\n",
        "train_df.info()\n",
        "\n",
        "# Vérifier la présence de valeurs manquantes dans le dataset train\n",
        "print(\"\\nNombre de valeurs manquantes par colonne dans le dataset train :\")\n",
        "print(train_df.isnull().sum())\n",
        "\n",
        "# Vérifier la présence de valeurs manquantes dans le dataset test\n",
        "print(\"\\nNombre de valeurs manquantes par colonne dans le dataset test :\")\n",
        "print(test_df.isnull().sum())"
      ]
    },
    {
      "cell_type": "code",
      "execution_count": 6,
      "metadata": {},
      "outputs": [
        {
          "name": "stdout",
          "output_type": "stream",
          "text": [
            "\n",
            "Valeurs uniques de la colonne 'Label' dans le dataset train :\n",
            "['hau' 'nob' 'wln' 'quh' 'scn' 'uzb' 'roh' 'ayr' 'rmy' 'guj' 'zho' 'nso'\n",
            " 'ote' 'vep' 'hat' 'lin' 'hin' 'ltz' 'kur' 'fij' 'pag' 'udm' 'kpg' 'ori'\n",
            " 'aze' 'che' 'lhu' 'seh' 'npi' 'ctu' 'szl' 'dan' 'kmr' 'lua' 'cos' 'pes'\n",
            " 'kan' 'nav' 'som' 'poh' 'bik' 'hbs' 'kbd' 'aln' 'ron' 'tso' 'chk' 'amh'\n",
            " 'lao' 'qvi' 'pfl' 'sun' 'deu' 'crh' 'azb' 'nap' 'swa' 'min' 'grc' 'aym'\n",
            " 'aka' 'mar' 'acm' 'orm' 'ksh' 'epo' 'nds' 'ven' 'kaz' 'tgk' 'quw' 'ixl'\n",
            " 'abk' 'kek' 'que' 'tsn' 'tah' 'srd' 'sag' 'kon' 'tca' 'arz' 'cbk' 'khm'\n",
            " 'bak' 'ngu' nan 'bre' 'tgl' 'kmb' 'bih' 'ndo' 'rop' 'swe' 'gsw' 'luo'\n",
            " 'tha' 'iku' 'suz' 'sah' 'run' 'pol' 'ces' 'hye' 'knv' 'glg' 'yom' 'nya'\n",
            " 'bcl' 'quc' 'oss' 'sin' 'gug' 'lat' 'swh' 'mlg' 'mco' 'mhr' 'vec' 'tir'\n",
            " 'kac' 'hun' 'tum' 'jbo' 'bjn' 'pap' 'kaa' 'xho' 'pms' 'hne' 'nno' 'mzh'\n",
            " 'vol' 'kir' 'pus' 'ksd' 'top' 'bem' 'diq' 'zlm' 'jam' 'gla' 'toj' 'twi'\n",
            " 'pcd' 'yor' 'tlh' 'hsb' 'tpi' 'krc' 'quy' 'srn' 'fao' 'lus' 'myv' 'ckb'\n",
            " 'frr' 'kjb' 'nyu' 'asm' 'tbz' 'nep' 'vls' 'ina' 'eng' 'ita' 'yue' 'uzn'\n",
            " 'wol' 'lmo' 'sme' 'sot' 'kin' 'sgs' 'grn' 'tuk' 'mkd' 'pon' 'kea' 'lfn'\n",
            " 'nnb' 'umb' 'mgh' 'ton' 'nch' 'tyv' 'new' 'acr' 'gym' 'eus' 'bis' 'mwl'\n",
            " 'pis' 'plt' 'gom' 'glv' 'srp' 'fra' 'ary' 'csb' 'smo' 'nde' 'hrv' 'war'\n",
            " 'yid' 'kal' 'tuc' 'ibo' 'urd' 'ber' 'pnb' 'mon' 'ile' 'lzh' 'dyu' 'jav'\n",
            " 'slk' 'bam' 'pan' 'mau' 'aoj' 'bel' 'dzo' 'mps' 'pls' 'hui' 'tzo' 'zai'\n",
            " 'kat' 'uig' 'ara' 'por' 'hmn' 'als' 'fil' 'nbl' 'ekk' 'cym' 'ajp' 'yap'\n",
            " 'bos' 'kab' 'swc' 'eml' 'arg' 'nor' 'cat' 'bqc' 'pam' 'glk' 'div' 'srm'\n",
            " 'hmo' 'fin' 'tam' 'tok' 'ext' 'kik' 'sco' 'est' 'afr' 'cak' 'apc' 'snd'\n",
            " 'msa' 'chv' 'mzn' 'hus' 'isl' 'kom' 'djk' 'rue' 'pcm' 'jpn' 'bul' 'ind'\n",
            " 'lvs' 'azj' 'fon' 'ast' 'spa' 'kjh' 'mlt' 'xav' 'xmf' 'lij' 'oci' 'ssw'\n",
            " 'ncj' 'kbp' 'bsb' 'tat' 'lug' 'ceb' 'arb' 'cmn' 'rug' 'vie' 'lit' 'naq'\n",
            " 'bpy' 'kor' 'yao' 'haw' 'kam' 'meu' 'bew' 'zsm' 'mai' 'bar' 'tls' 'gle'\n",
            " 'zea' 'rap' 'mam' 'ace' 'fur' 'csy' 'ful' 'sna' 'zul' 'slv' 'ido' 'bzj'\n",
            " 'hrx' 'prs' 'sat' 'ukr' 'kos' 'mad' 'mal' 'ell' 'fas' 'wuu' 'ilo' 'cab'\n",
            " 'ban' 'mri' 'gcf' 'ikk' 'cjk' 'hif' 'bod' 'cuk' 'heb' 'ory' 'lim' 'alt'\n",
            " 'nld' 'sqi' 'gor' 'ewe' 'tur' 'mos' 'wal' 'mya' 'san' 'dtp' 'tdt' 'guc'\n",
            " 'hnj' 'ahk' 'fry' 'arn' 'hbo' 'ach' 'hil' 'afb' 'pau' 'lue' 'quz' 'gil'\n",
            " 'enm' 'qub' 'hyw' 'mah' 'ada' 'iba' 'teo' 'toi' 'kua' 'gcr' 'ksw' 'crs'\n",
            " 'ngl' 'niu' 'wbm' 'gaa' 'miq' 'tvl']\n",
            "\n",
            "Nombre de langues différentes dans le dataset train :\n",
            "390\n"
          ]
        }
      ],
      "source": [
        "\n",
        "# Valeurs uniques de la colonne \"Label\" dans le dataset train\n",
        "lang_values = train_df[\"Label\"].unique()\n",
        "print(\"\\nValeurs uniques de la colonne 'Label' dans le dataset train :\")\n",
        "print(lang_values)\n",
        "\n",
        "# Nombre de langues différentes dans le dataset train\n",
        "print(\"\\nNombre de langues différentes dans le dataset train :\")\n",
        "print(len(lang_values))\n"
      ]
    },
    {
      "cell_type": "markdown",
      "metadata": {},
      "source": [
        "### Distribution des labels (langues)"
      ]
    },
    {
      "cell_type": "code",
      "execution_count": 7,
      "metadata": {},
      "outputs": [
        {
          "name": "stdout",
          "output_type": "stream",
          "text": [
            "Distribution des langues dans le dataset d'entraînement :\n",
            "Label\n",
            "tgk    1500\n",
            "kur    1000\n",
            "hin    1000\n",
            "aze    1000\n",
            "bak    1000\n",
            "       ... \n",
            "tvl       2\n",
            "toi       1\n",
            "kua       1\n",
            "gcr       1\n",
            "gaa       1\n",
            "Name: count, Length: 389, dtype: int64\n"
          ]
        },
        {
          "data": {
            "image/png": "[encoded data removed]",
            "text/plain": [
              "<Figure size 1000x600 with 1 Axes>"
            ]
          },
          "metadata": {},
          "output_type": "display_data"
        }
      ],
      "source": [
        "# Compter le nombre d'occurrences de chaque langue dans le dataset d'entraînement\n",
        "print(\"Distribution des langues dans le dataset d'entraînement :\")\n",
        "langues = train_df[\"Label\"].value_counts()\n",
        "print(langues)\n",
        "\n",
        "# Visualiser la distribution à l'aide d'un graphique\n",
        "import matplotlib.pyplot as plt\n",
        "import seaborn as sns\n",
        "\n",
        "plt.figure(figsize=(10,6))\n",
        "sns.countplot(data=train_df, x=\"Label\", order=langues.index)\n",
        "plt.title(\"Distribution des langues dans le dataset d'entraînement\")\n",
        "plt.xlabel(\"Langue\")\n",
        "plt.ylabel(\"Nombre d'échantillons\")\n",
        "plt.xticks(rotation=45)\n",
        "plt.show()"
      ]
    },
    {
      "cell_type": "markdown",
      "metadata": {},
      "source": [
        "### Analyse de la longueur des textes"
      ]
    },
    {
      "cell_type": "code",
      "execution_count": 8,
      "metadata": {},
      "outputs": [
        {
          "name": "stdout",
          "output_type": "stream",
          "text": [
            "Statistiques sur la longueur des textes :\n",
            "count    190599.000000\n",
            "mean        149.974339\n",
            "std         376.791972\n",
            "min           5.000000\n",
            "25%          64.000000\n",
            "50%         104.000000\n",
            "75%         172.000000\n",
            "max       78939.000000\n",
            "Name: text_length, dtype: float64\n"
          ]
        },
        {
          "data": {
            "image/png": "[encoded data removed]",
            "text/plain": [
              "<Figure size 1000x600 with 1 Axes>"
            ]
          },
          "metadata": {},
          "output_type": "display_data"
        }
      ],
      "source": [
        "# Calculer la longueur de chaque texte dans le dataset d'entraînement\n",
        "train_df[\"text_length\"] = train_df[\"Text\"].apply(len)\n",
        "\n",
        "# Afficher quelques statistiques sur la longueur des textes\n",
        "print(\"Statistiques sur la longueur des textes :\")\n",
        "print(train_df[\"text_length\"].describe())\n",
        "\n",
        "# Visualiser la distribution de la longueur des textes\n",
        "plt.figure(figsize=(10,6))\n",
        "sns.histplot(train_df[\"text_length\"], bins=50, kde=True)\n",
        "plt.title(\"Distribution de la longueur des textes\")\n",
        "plt.xlabel(\"Nombre de caractères\")\n",
        "plt.ylabel(\"Fréquence\")\n",
        "plt.show()"
      ]
    },
    {
      "cell_type": "markdown",
      "metadata": {},
      "source": [
        "### Exemples de textes par langue"
      ]
    },
    {
      "cell_type": "code",
      "execution_count": 9,
      "metadata": {},
      "outputs": [
        {
          "name": "stdout",
          "output_type": "stream",
          "text": [
            "\n",
            "Exemples pour la langue 'ayr' :\n"
          ]
        },
        {
          "data": {
            "text/plain": [
              "8       Pä waranq pä tunka-2020 maratakisti niyaw khaw...\n",
              "686     ADD ukan wawanakax janiw masinakapamp walt'aya...\n",
              "1022    Khititix mä ch'axwaskir markar tumpir sarañ mu...\n",
              "Name: Text, dtype: object"
            ]
          },
          "metadata": {},
          "output_type": "display_data"
        },
        {
          "name": "stdout",
          "output_type": "stream",
          "text": [
            "\n",
            "Exemples pour la langue 'guj' :\n"
          ]
        },
        {
          "data": {
            "text/plain": [
              "10     જ્યાં સુધી કોઈ પોસ્ટ પોસ્ટ ખાસ કરીને કહે છે કે...\n",
              "350    સ્‍કુલ જીવનમાં બાહય પરિસ્‍થિતિઓનો પ્રભાવ પણ એમ...\n",
              "703    जघानशरणं तस्यात्सर्वशत्रुहरं परम्| ध्यात्वा पं...\n",
              "Name: Text, dtype: object"
            ]
          },
          "metadata": {},
          "output_type": "display_data"
        },
        {
          "name": "stdout",
          "output_type": "stream",
          "text": [
            "\n",
            "Exemples pour la langue 'hau' :\n"
          ]
        },
        {
          "data": {
            "text/plain": [
              "0      َ قَالَ النَّبِيُّ ص إِنِّي أَتَعَجَّبُ مِمَّن...\n",
              "254    Game da shigar kasar Sin kasuwar hada-hadar ku...\n",
              "689           سپوږمۍ او ستورو تر اسمانه سترګې پټې نه کړي\n",
              "Name: Text, dtype: object"
            ]
          },
          "metadata": {},
          "output_type": "display_data"
        },
        {
          "name": "stdout",
          "output_type": "stream",
          "text": [
            "\n",
            "Exemples pour la langue 'nob' :\n"
          ]
        },
        {
          "data": {
            "text/plain": [
              "1       Filmen forteller historien om Will Hunting  en...\n",
              "159       Hvis selskapet har omsetning utenfor mva-loven.\n",
              "1613    Støtter alle iPhone-modeller som kjører på iOS...\n",
              "Name: Text, dtype: object"
            ]
          },
          "metadata": {},
          "output_type": "display_data"
        },
        {
          "name": "stdout",
          "output_type": "stream",
          "text": [
            "\n",
            "Exemples pour la langue 'quh' :\n"
          ]
        },
        {
          "data": {
            "text/plain": [
              "3      Kancunarí enemigosniyquichejta munacuychej  al...\n",
              "4      Warmeqa ama yachachichunchu hermanospa tantaku...\n",
              "185    Chaypeqa wawaspis manaraj imapi mana wañonqank...\n",
              "Name: Text, dtype: object"
            ]
          },
          "metadata": {},
          "output_type": "display_data"
        },
        {
          "name": "stdout",
          "output_type": "stream",
          "text": [
            "\n",
            "Exemples pour la langue 'rmy' :\n"
          ]
        },
        {
          "data": {
            "text/plain": [
              "9               kolen liparyem angle  soske ol pherena e\n",
              "583    O Vasile Yonesko si ekh Rom andar e Rumuniya  ...\n",
              "719    Zaro si Kenoriya (Partikloriya) so nay dikhe t...\n",
              "Name: Text, dtype: object"
            ]
          },
          "metadata": {},
          "output_type": "display_data"
        },
        {
          "name": "stdout",
          "output_type": "stream",
          "text": [
            "\n",
            "Exemples pour la langue 'roh' :\n"
          ]
        },
        {
          "data": {
            "text/plain": [
              "7      Davant dal tut sesa il primviolinist ch’ha mag...\n",
              "14     Art. 267a P. Restituziun da la chaussa / II. E...\n",
              "856    En blers pajais da l’Europa vegni pajà cun eur...\n",
              "Name: Text, dtype: object"
            ]
          },
          "metadata": {},
          "output_type": "display_data"
        },
        {
          "name": "stdout",
          "output_type": "stream",
          "text": [
            "\n",
            "Exemples pour la langue 'scn' :\n"
          ]
        },
        {
          "data": {
            "text/plain": [
              "5       Nta l'anfibbi anuri  accumpari l'aricchia medi...\n",
              "1355    L’attivitati principali dû paisi era l’agricul...\n",
              "1778    Sta canzuni  nzemi a Radio Ga Ga sunnu alcuni ...\n",
              "Name: Text, dtype: object"
            ]
          },
          "metadata": {},
          "output_type": "display_data"
        },
        {
          "name": "stdout",
          "output_type": "stream",
          "text": [
            "\n",
            "Exemples pour la langue 'uzb' :\n"
          ]
        },
        {
          "data": {
            "text/plain": [
              "6      d ) xalqaro iqtisodiy hamkorlikni kengaytirish...\n",
              "577    Human Rights Watch Turkmanistonga 1999 yildan ...\n",
              "588    Биринчидан  ҳозирги болалар тезфаҳм. Ўйлайманк...\n",
              "Name: Text, dtype: object"
            ]
          },
          "metadata": {},
          "output_type": "display_data"
        },
        {
          "name": "stdout",
          "output_type": "stream",
          "text": [
            "\n",
            "Exemples pour la langue 'wln' :\n"
          ]
        },
        {
          "data": {
            "text/plain": [
              "2      An Arthrostylidium berryi in uska species han ...\n",
              "237    Polyodontes tidemani in uska species han Annel...\n",
              "333    An Onobrychis tavernieraefolia in uska species...\n",
              "Name: Text, dtype: object"
            ]
          },
          "metadata": {},
          "output_type": "display_data"
        }
      ],
      "source": [
        "# Afficher quelques exemples de textes pour chaque langue afin de vérifier la qualité des données\n",
        "grouped = train_df.groupby(\"Label\")\n",
        "\n",
        "# Garder seulement 10 langues aléatoires\n",
        "grouped = grouped.filter(lambda x: x[\"Label\"].iloc[0] in lang_values[:10]).groupby(\"Label\")\n",
        "\n",
        "for label, groupe in grouped:\n",
        "    print(f\"\\nExemples pour la langue '{label}' :\")\n",
        "    display(groupe[\"Text\"].head(3))"
      ]
    },
    {
      "cell_type": "markdown",
      "metadata": {
        "id": "6yKYDqYDPSq6"
      },
      "source": [
        "## 2. Préparation du Dataset"
      ]
    },
    {
      "cell_type": "code",
      "execution_count": 10,
      "metadata": {},
      "outputs": [],
      "source": [
        "# Nettoyage et conversion des colonnes de texte\n",
        "train_df[\"Text\"] = train_df[\"Text\"].fillna(\"\").astype(str)\n",
        "test_df[\"Text\"] = test_df[\"Text\"].fillna(\"\").astype(str)"
      ]
    },
    {
      "cell_type": "code",
      "execution_count": 11,
      "metadata": {
        "id": "bb0uM7cOPP_T"
      },
      "outputs": [],
      "source": [
        "# Encodage des labels\n",
        "le = LabelEncoder()\n",
        "train_df[\"Label\"] = le.fit_transform(train_df[\"Label\"])"
      ]
    },
    {
      "cell_type": "code",
      "execution_count": 12,
      "metadata": {
        "id": "hLEddegAPhdK"
      },
      "outputs": [],
      "source": [
        "# Conversion en Dataset Hugging Face\n",
        "train_dataset = Dataset.from_pandas(train_df)\n",
        "test_dataset = Dataset.from_pandas(test_df)\n",
        "\n",
        "# Renommage de la colonne \"Label\" en \"labels\" pour l'entraînement\n",
        "train_dataset = train_dataset.rename_column(\"Label\", \"labels\")"
      ]
    },
    {
      "cell_type": "code",
      "execution_count": 13,
      "metadata": {
        "id": "j5foeTcjbhYO"
      },
      "outputs": [],
      "source": [
        "# Tokenisation avec un modèle\n",
        "model_checkpoint = \"distilbert-base-multilingual-cased\"\n",
        "tokenizer = AutoTokenizer.from_pretrained(model_checkpoint)"
      ]
    },
    {
      "cell_type": "code",
      "execution_count": 14,
      "metadata": {
        "id": "iYCgm7gwbkfG"
      },
      "outputs": [],
      "source": [
        "def tokenize_function(example):\n",
        "    return tokenizer(example[\"Text\"], padding=\"max_length\", truncation=True)"
      ]
    },
    {
      "cell_type": "markdown",
      "metadata": {
        "id": "Gc8O5xsMbnTl"
      },
      "source": [
        "## 3. Division train, test, validation datasets"
      ]
    },
    {
      "cell_type": "code",
      "execution_count": 15,
      "metadata": {
        "colab": {
          "base_uri": "https://localhost:8080/",
          "height": 81,
          "referenced_widgets": [
            "d007ef18eb8c418986e56c24a2d00c86",
            "ae2443bde930468abaf07775d73b4d38",
            "c39a4fd23c3b4d6c8965ca77d3e4c12d",
            "ab69607fc7dd44b3b8a517b78befcd98",
            "56bbfdc9aecc40f1bdf952c97f0bbfa7",
            "63c62d08192e4097a619db462ce75c4c",
            "9d8bd047d69946d0a345f04b1d84341b",
            "6d39a284511240db8be1efd31ca16cd9",
            "4ef12ffb82a04c92ac22bd8b10dd2739",
            "066f1ed42d8f46bfa826ed1fc9e08156",
            "07bff1ce00164e25a8fc2c8470daa9a1",
            "01b6fe97e5f74c7c9517fa07c0cc0c36",
            "c5368ee9b39e45e39e0b2499a300218c",
            "a4a66425b84d428db2ff26b0013442ec",
            "d81bf88b18df429194ef7f98d32cfc4f",
            "316f4d59e38a4b88ab2ba5676808bd27",
            "6e1790a729cc47a6b16e1c17cf987686",
            "8935153f8fca40259a63e402a7fd27bc",
            "408598d052b542cdbd749c6563136c76",
            "28cb434a518d4cd48108a31a1d36ae94",
            "c77173030f144652bc514297aaa33c3f",
            "521d0590b68849a1821357f90f29db9b"
          ]
        },
        "id": "y1_hIP8ybsBu",
        "outputId": "c759f29c-8396-478e-dbcc-c9df5020b45c"
      },
      "outputs": [
        {
          "name": "stderr",
          "output_type": "stream",
          "text": [
            "Map: 100%|██████████| 190599/190599 [00:17<00:00, 11042.96 examples/s]\n",
            "Map: 100%|██████████| 190567/190567 [00:16<00:00, 11263.31 examples/s]\n"
          ]
        }
      ],
      "source": [
        "train_dataset = train_dataset.map(tokenize_function, batched=True)\n",
        "test_dataset = test_dataset.map(tokenize_function, batched=True)"
      ]
    },
    {
      "cell_type": "code",
      "execution_count": 16,
      "metadata": {
        "id": "dd353j0ybum1"
      },
      "outputs": [],
      "source": [
        "# Séparation en ensemble d'entraînement et d'évaluation\n",
        "split_dataset = train_dataset.train_test_split(test_size=0.1, seed=42)\n",
        "train_split = split_dataset[\"train\"]\n",
        "eval_split = split_dataset[\"test\"]"
      ]
    },
    {
      "cell_type": "markdown",
      "metadata": {},
      "source": [
        "### Construction du vocabulaire de caractères par langue"
      ]
    },
    {
      "cell_type": "code",
      "execution_count": 17,
      "metadata": {},
      "outputs": [],
      "source": [
        "import re\n",
        "from collections import defaultdict\n",
        "\n",
        "def extract_ngrams(text, n=1):\n",
        "    \"\"\"\n",
        "    Extract a set of n-grams of length n from the text.\n",
        "    Non-alphanumeric characters are removed before processing.\n",
        "    \n",
        "    Args:\n",
        "        text (str): Input text.\n",
        "        n (int): Length of the n-grams to extract.\n",
        "    \n",
        "    Returns:\n",
        "        set: A set of n-grams extracted from the cleaned text.\n",
        "    \"\"\"\n",
        "    # Remove non-alphanumeric characters (using re.sub which is very fast)\n",
        "    filtered_text = re.sub(r'\\W+', '', text, flags=re.UNICODE)\n",
        "    # If the cleaned text is shorter than n, return an empty set\n",
        "    if len(filtered_text) < n:\n",
        "        return set()\n",
        "    # Use set comprehension for fast extraction of all n-grams\n",
        "    return {filtered_text[i:i+n] for i in range(len(filtered_text) - n + 1)}\n",
        "\n",
        "from collections import defaultdict\n",
        "\n",
        "def build_language_ngram_vocab(train_df, le, n):\n",
        "    \"\"\"\n",
        "    Build an n-gram vocabulary for each language.\n",
        "    \n",
        "    Returns:\n",
        "      dict: A mapping from language name to a set of n-grams.\n",
        "    \"\"\"\n",
        "    vocab = defaultdict(set)\n",
        "    for lang_code, group in train_df.groupby(\"labels\"):\n",
        "        lang_name = le.inverse_transform([lang_code])[0]\n",
        "        texts = group[\"Text\"].tolist()\n",
        "        for text in texts:\n",
        "            cleaned_text = re.sub(r'\\W+', '', text, flags=re.UNICODE)\n",
        "            if len(cleaned_text) >= n:\n",
        "                ngrams = {cleaned_text[i:i+n] for i in range(len(cleaned_text) - n + 1)}\n",
        "            else:\n",
        "                ngrams = set()\n",
        "            vocab[lang_name].update(ngrams)\n",
        "    return vocab\n",
        "\n",
        "split_df = train_split.to_pandas()\n",
        "\n",
        "# Build global n-gram vocabularies for n=1 and n=2 (for unigrams and bigrams)\n",
        "lang_ngram_vocab = {\n",
        "    1: build_language_ngram_vocab(split_df, le, n=1),\n",
        "    2: build_language_ngram_vocab(split_df, le, n=2),\n",
        "    3: build_language_ngram_vocab(split_df, le, n=3),\n",
        "    4: build_language_ngram_vocab(split_df, le, n=4),\n",
        "}"
      ]
    },
    {
      "cell_type": "code",
      "execution_count": 18,
      "metadata": {},
      "outputs": [],
      "source": [
        "import re\n",
        "import time\n",
        "import numpy as np\n",
        "\n",
        "# Global variables to track n-gram matching fractions and call count.\n",
        "global_filter_calls = 0\n",
        "global_ngram_fractions = {}  # keys: n (int), value: list of fractions\n",
        "\n",
        "def filter_language_for_text(text, language, thresholds, timing_debug=False, is_true_label=False):\n",
        "    \"\"\"\n",
        "    Check that for each n in 1..max_n (max_n = len(thresholds)):\n",
        "      The fraction of n-grams in the text that are present in the language's n-gram vocabulary \n",
        "      is >= the corresponding threshold.\n",
        "    \n",
        "    Parameters:\n",
        "      text (str): The text to filter.\n",
        "      language (str): The language to check against.\n",
        "      thresholds (tuple or list): A sequence of threshold values, one for each n-gram length (from 1 to max_n).\n",
        "      timing_debug (bool): If True, prints timing and debugging information for each step.\n",
        "      is_true_label (bool): When True, record the fraction values (for the true label) to track distribution.\n",
        "    \n",
        "    Returns:\n",
        "      bool: True if for all n the matching fraction is >= threshold; otherwise False.\n",
        "    \"\"\"\n",
        "    global global_filter_calls, global_ngram_fractions\n",
        "    total_start = time.perf_counter()\n",
        "    \n",
        "    # Clean the text once to remove non-alphanumeric characters.\n",
        "    cleaned_text = re.sub(r'\\W+', '', text, flags=re.UNICODE)\n",
        "    if timing_debug:\n",
        "        print(f\"Text cleaning took {time.perf_counter() - total_start:.6f} seconds.\")\n",
        "    \n",
        "    # Loop over n-gram lengths from 1 to max_n\n",
        "    for n, threshold in enumerate(thresholds, start=1):\n",
        "        if threshold is None:\n",
        "            continue\n",
        "        \n",
        "        start = time.perf_counter()\n",
        "        if len(cleaned_text) < n:\n",
        "            ngrams = set()\n",
        "        else:\n",
        "            # Efficiently build n-grams using a set comprehension.\n",
        "            ngrams = {cleaned_text[i:i+n] for i in range(len(cleaned_text) - n + 1)}\n",
        "        t_extract = time.perf_counter() - start\n",
        "        if timing_debug:\n",
        "            print(f\"{n}-gram extraction took {t_extract:.6f} seconds (found {len(ngrams)} n-grams).\")\n",
        "        \n",
        "        start = time.perf_counter()\n",
        "        # Get the pre-built vocabulary for n-grams of length n for this language.\n",
        "        lang_ngrams = lang_ngram_vocab.get(n, {}).get(language, set())\n",
        "        if not ngrams or not lang_ngrams:\n",
        "            fraction = 0.0\n",
        "        else:\n",
        "            match_count = sum(1 for gram in ngrams if gram in lang_ngrams)\n",
        "            fraction = match_count / len(ngrams)\n",
        "        t_match = time.perf_counter() - start\n",
        "        if timing_debug:\n",
        "            print(f\"{n}-gram matching took {t_match:.6f} seconds (fraction: {fraction:.4f}).\")\n",
        "        \n",
        "        # If this is a true label call, record the fraction for statistical tracking.\n",
        "        if is_true_label:\n",
        "            if n not in global_ngram_fractions:\n",
        "                global_ngram_fractions[n] = []\n",
        "            global_ngram_fractions[n].append(fraction)\n",
        "            \n",
        "            # Increase the call counter only on true label calls.\n",
        "            global_filter_calls += 1\n",
        "            \n",
        "            # Every 1,000 calls, compute and print the 1st percentile (lowest 1%) for each n-gram size.\n",
        "            if global_filter_calls % 4000 == 0:\n",
        "                print(f\"\\nAfter {global_filter_calls} true label calls, 1% percentiles:\")\n",
        "                for key in sorted(global_ngram_fractions.keys()):\n",
        "                    perc = np.percentile(global_ngram_fractions[key], 1)\n",
        "                    print(f\"  {key}-gram: {perc:.4f}\")\n",
        "        \n",
        "        # If the fraction is below the required threshold for this n, return False immediately.\n",
        "        if fraction < threshold:\n",
        "            if timing_debug:\n",
        "                print(f\"Threshold for {n}-grams not met: {fraction:.4f} < {threshold}\")\n",
        "            return False\n",
        "    \n",
        "    total_time = time.perf_counter() - total_start\n",
        "    if timing_debug:\n",
        "        print(f\"Total filtering time: {total_time:.6f} seconds.\")\n",
        "    \n",
        "    return True"
      ]
    },
    {
      "cell_type": "code",
      "execution_count": 19,
      "metadata": {
        "colab": {
          "base_uri": "https://localhost:8080/"
        },
        "id": "IqTBL6r8byLl",
        "outputId": "d72e340a-484f-46cf-b4eb-6bd5b281dd96"
      },
      "outputs": [
        {
          "name": "stderr",
          "output_type": "stream",
          "text": [
            "Some weights of DistilBertForSequenceClassification were not initialized from the model checkpoint at distilbert-base-multilingual-cased and are newly initialized: ['classifier.bias', 'classifier.weight', 'pre_classifier.bias', 'pre_classifier.weight']\n",
            "You should probably TRAIN this model on a down-stream task to be able to use it for predictions and inference.\n"
          ]
        }
      ],
      "source": [
        "# Chargement du modèle pour la classification\n",
        "num_labels = len(le.classes_)\n",
        "model = AutoModelForSequenceClassification.from_pretrained(model_checkpoint, num_labels=num_labels).to(device)"
      ]
    },
    {
      "cell_type": "markdown",
      "metadata": {
        "id": "aCua4Lytb3Od"
      },
      "source": [
        "## 4. Training et Résultats"
      ]
    },
    {
      "cell_type": "code",
      "execution_count": 20,
      "metadata": {
        "colab": {
          "base_uri": "https://localhost:8080/"
        },
        "id": "YJWf-66db1TV",
        "outputId": "7f6c3d2c-3d99-4345-e8dc-a01f84d72f5f"
      },
      "outputs": [
        {
          "name": "stderr",
          "output_type": "stream",
          "text": [
            "/Users/louisgauthier/Documents/CentraleSupelec/NLP/anlp-kaggle/.venv/lib/python3.11/site-packages/transformers/training_args.py:1594: FutureWarning: `evaluation_strategy` is deprecated and will be removed in version 4.46 of 🤗 Transformers. Use `eval_strategy` instead\n",
            "  warnings.warn(\n"
          ]
        }
      ],
      "source": [
        "# Définition des arguments d'entraînement\n",
        "training_args = TrainingArguments(\n",
        "    output_dir=\"results\",\n",
        "    evaluation_strategy=\"epoch\",\n",
        "    learning_rate=2e-5,\n",
        "    per_device_train_batch_size=16,\n",
        "    per_device_eval_batch_size=16,\n",
        "    num_train_epochs=5,\n",
        "    weight_decay=0.01,\n",
        "    logging_steps=50,\n",
        "    report_to=\"none\"  # Désactive le reporting vers wandb, problème généré sur Colab\n",
        ")"
      ]
    },
    {
      "cell_type": "code",
      "execution_count": 21,
      "metadata": {
        "id": "sbeY2DSTb9ke"
      },
      "outputs": [],
      "source": [
        "# Définition de la métrique d'évaluation\n",
        "accuracy_metric = evaluate.load(\"accuracy\")\n",
        "\n",
        "def compute_metrics(eval_pred):\n",
        "    logits, labels = eval_pred\n",
        "    predictions = np.argmax(logits, axis=-1)\n",
        "    return accuracy_metric.compute(predictions=predictions, references=labels)"
      ]
    },
    {
      "cell_type": "code",
      "execution_count": 22,
      "metadata": {
        "id": "reE3GB37b_L1"
      },
      "outputs": [],
      "source": [
        "# Création du Trainer\n",
        "trainer = Trainer(\n",
        "    model=model,\n",
        "    args=training_args,\n",
        "    train_dataset=train_split,\n",
        "    eval_dataset=eval_split,\n",
        "    compute_metrics=compute_metrics,\n",
        ")"
      ]
    },
    {
      "cell_type": "code",
      "execution_count": null,
      "metadata": {
        "colab": {
          "base_uri": "https://localhost:8080/",
          "height": 322
        },
        "id": "ULb19ysEcA6d",
        "outputId": "ee7703ed-c429-435f-c351-658a53d0bf68"
      },
      "outputs": [],
      "source": [
        "# Entraînement du modèle. Si vous avez déjà entraîné le modèle, vous pouvez passer cette étape et charger le modèle entraîné directement.\n",
        "trainer.train()\n",
        "trainer.save_model(\"modele_5_epochs\")"
      ]
    },
    {
      "cell_type": "code",
      "execution_count": 23,
      "metadata": {},
      "outputs": [],
      "source": [
        "# Charger le modèle entraîné\n",
        "model = AutoModelForSequenceClassification.from_pretrained(\"./modele_5_epochs\").to(device)\n"
      ]
    },
    {
      "cell_type": "code",
      "execution_count": 24,
      "metadata": {
        "colab": {
          "base_uri": "https://localhost:8080/",
          "height": 17
        },
        "id": "VLbxx24OI7Zl",
        "outputId": "8bb54fa1-352b-493d-b70e-d26060b15228"
      },
      "outputs": [
        {
          "name": "stderr",
          "output_type": "stream",
          "text": [
            "Prédiction sur pred_labels_eval.csv: 100%|██████████| 1192/1192 [02:42<00:00,  7.33it/s]\n"
          ]
        },
        {
          "name": "stdout",
          "output_type": "stream",
          "text": [
            "Prédictions sauvegardées dans predictions/pred_labels_eval.csv\n"
          ]
        }
      ],
      "source": [
        "import os\n",
        "import torch\n",
        "from tqdm.auto import tqdm\n",
        "import numpy as np\n",
        "import torch.nn.functional as F\n",
        "import csv\n",
        "\n",
        "# Création d'un répertoire pour sauvegarder les prédictions (à ajouter dans .gitignore)\n",
        "output_dir = \"predictions\"\n",
        "os.makedirs(output_dir, exist_ok=True)\n",
        "\n",
        "def predict_and_save(dataloader, filename):\n",
        "    \"\"\"\n",
        "    Effectue les prédictions avec affichage de la progression, calcule les probabilités,\n",
        "    et sauvegarde les prédictions (étiquette et probabilités pour chaque classe) dans un CSV.\n",
        "    \"\"\"\n",
        "    predictions_list = []\n",
        "    probabilities_list = []\n",
        "    \n",
        "    model.eval()\n",
        "    for batch in tqdm(dataloader, desc=f\"Prédiction sur {filename}\"):\n",
        "        # Déplacement des tenseurs sur le device du modèle\n",
        "        batch = {k: v.to(model.device) for k, v in batch.items() if isinstance(v, torch.Tensor)}\n",
        "        with torch.no_grad():\n",
        "            outputs = model(**batch)\n",
        "            logits = outputs.logits\n",
        "            # Calcul des probabilités via softmax\n",
        "            probs = F.softmax(logits, dim=-1).detach().cpu().numpy()\n",
        "            batch_preds = np.argmax(probs, axis=-1)\n",
        "            \n",
        "            predictions_list.append(batch_preds)\n",
        "            probabilities_list.append(probs)\n",
        "    \n",
        "    # Concaténation des résultats de tous les batches\n",
        "    preds = np.concatenate(predictions_list, axis=0)\n",
        "    preds_probs = np.concatenate(probabilities_list, axis=0)\n",
        "    preds_labels = le.inverse_transform(preds)\n",
        "    \n",
        "    # Sauvegarde dans un fichier CSV\n",
        "    output_path = os.path.join(output_dir, filename)\n",
        "    with open(output_path, \"w\", encoding=\"utf-8\", newline='') as f:\n",
        "        writer = csv.writer(f)\n",
        "        # Entête : ID, étiquette prédite, puis une colonne par classe pour les probabilités\n",
        "        header = [\"ID\", \"Predicted Label\"] + [f\"Prob_Class_{i}\" for i in range(preds_probs.shape[1])]\n",
        "        writer.writerow(header)\n",
        "        for idx, (label, probs) in enumerate(zip(preds_labels, preds_probs)):\n",
        "            row = [idx + 1, label] + list(probs)\n",
        "            writer.writerow(row)\n",
        "    \n",
        "    print(f\"Prédictions sauvegardées dans {output_path}\")\n",
        "    \n",
        "    return preds, preds_probs, preds_labels\n",
        "\n",
        "# Obtention du DataLoader pour le jeu de test\n",
        "test_dataloader = trainer.get_test_dataloader(test_dataset)\n",
        "# Obtention du DataLoader pour le jeu d'évaluation\n",
        "eval_dataloader = trainer.get_eval_dataloader(eval_split)\n",
        "\n",
        "# Prédictions sur le jeu d'évaluation\n",
        "eval_preds, eval_preds_probs, eval_preds_labels = predict_and_save(eval_dataloader, \"pred_labels_eval.csv\")\n",
        "\n",
        "# Prédictions sur le jeu de test (données non étiquetées)\n",
        "# test_preds, test_preds_probs, test_preds_labels = predict_and_save(test_dataloader, \"pred_labels_test.csv\")\n"
      ]
    },
    {
      "cell_type": "code",
      "execution_count": 25,
      "metadata": {},
      "outputs": [
        {
          "name": "stderr",
          "output_type": "stream",
          "text": [
            "Filtering predictions: 100%|██████████| 19060/19060 [03:38<00:00, 87.06it/s] "
          ]
        },
        {
          "name": "stdout",
          "output_type": "stream",
          "text": [
            "For thresholds (None, None, 0.3), 344/19060 samples (1.80%) had their true label filtered out.\n",
            "Average number of classes kept: 185.28 out of 390 (47.51%).\n",
            "Examples of filtered predictions on the evaluation set:\n",
            "Text (start): भूंयरचणुकेचे नदरेन युरोप खंडाचे मुखेलपणान चार वांट...  - Filtered prediction: gom\n",
            "Text (start): Fazer o auto exame de mama é muito importante....  - Filtered prediction: por\n",
            "Text (start): Diawu diana dieto didi dikuikama mu beno bila tuze...  - Filtered prediction: yom\n",
            "Text (start): Kanị Fẹstọsị chọ n'o mẹyeni ndị Ju  ya ọ nọ jụma P...  - Filtered prediction: ikk\n",
            "Text (start): Jeg spiste hvad end der så godt ud....  - Filtered prediction: dan\n"
          ]
        },
        {
          "name": "stderr",
          "output_type": "stream",
          "text": [
            "\n"
          ]
        }
      ],
      "source": [
        "from tqdm.auto import tqdm\n",
        "import numpy as np\n",
        "\n",
        "def apply_filter_to_predictions(preds_probs, dataset, thresholds):\n",
        "    \"\"\"\n",
        "    Apply the n-gram based filter to the predictions using a generic thresholds tuple.\n",
        "    \n",
        "    For each sample and each candidate language, the filter checks that for each n in 1..N:\n",
        "      - The fraction of n-grams in the text that are present in the language's n-gram vocabulary \n",
        "        is >= the corresponding threshold (provided in 'thresholds').\n",
        "    If a candidate does not meet these criteria, its probability is set to 0.\n",
        "    \n",
        "    Args:\n",
        "        preds_probs (np.array): Array of probabilities for each sample (shape: [n_samples, n_languages]).\n",
        "        dataset: HuggingFace dataset containing the original \"Text\" column and possibly \"labels\".\n",
        "        thresholds (tuple or list): A sequence of threshold values for n-grams of lengths 1 to N.\n",
        "    \n",
        "    Returns:\n",
        "        tuple: (filtered_preds, filtered_preds_labels)\n",
        "            - filtered_preds: Array of indices for the selected classes after filtering.\n",
        "            - filtered_preds_labels: List of corresponding language names.\n",
        "    \"\"\"\n",
        "    filtered_preds = []\n",
        "    filtered_preds_labels = []\n",
        "    \n",
        "    n_true_filtered = 0    # Number of samples for which the true label was filtered out\n",
        "    total_classes_kept = 0 # Total number of non-zero probabilities kept per sample\n",
        "    total_samples = len(preds_probs)\n",
        "    num_classes = preds_probs.shape[1]\n",
        "    \n",
        "    # Check if the dataset has true labels\n",
        "    has_true_labels = \"labels\" in dataset.column_names if hasattr(dataset, \"column_names\") else False\n",
        "    \n",
        "    # Loop over each sample with a progress bar\n",
        "    for i, probs in tqdm(enumerate(preds_probs), total=total_samples, desc=\"Filtering predictions\"):\n",
        "        text = dataset[i][\"Text\"]\n",
        "        # Copy probabilities for modification\n",
        "        filtered_probs = probs.copy()\n",
        "        \n",
        "        # For each candidate language, filter out if it doesn't meet the n-gram thresholds.\n",
        "        for j, lang in enumerate(le.classes_):\n",
        "            if not filter_language_for_text(text, lang, thresholds=thresholds, timing_debug=False):\n",
        "                filtered_probs[j] = 0.0\n",
        "        \n",
        "        # Count how many classes are kept (non-zero probabilities)\n",
        "        classes_kept = np.count_nonzero(filtered_probs)\n",
        "        total_classes_kept += classes_kept\n",
        "        \n",
        "        # If true labels are available, check whether the true label was filtered out.\n",
        "        if has_true_labels:\n",
        "            true_label_idx = dataset[i][\"labels\"]\n",
        "            true_lang = le.inverse_transform([true_label_idx])[0]\n",
        "            if not filter_language_for_text(text, true_lang, thresholds=thresholds, is_true_label=False):\n",
        "                n_true_filtered += 1\n",
        "        \n",
        "        # If all probabilities were filtered out, fallback to the original prediction.\n",
        "        if np.sum(filtered_probs) == 0:\n",
        "            filtered_pred = np.argmax(probs)\n",
        "        else:\n",
        "            filtered_pred = np.argmax(filtered_probs)\n",
        "        \n",
        "        filtered_preds.append(filtered_pred)\n",
        "        filtered_preds_labels.append(le.inverse_transform([filtered_pred])[0])\n",
        "    \n",
        "    # Display statistics if true labels are available\n",
        "    if has_true_labels:\n",
        "        rate_true_filtered = n_true_filtered / total_samples\n",
        "        print(f\"For thresholds {thresholds}, {n_true_filtered}/{total_samples} samples ({rate_true_filtered*100:.2f}%) had their true label filtered out.\")\n",
        "    \n",
        "    avg_classes_kept = total_classes_kept / total_samples\n",
        "    rate_classes_kept = avg_classes_kept / num_classes\n",
        "    print(f\"Average number of classes kept: {avg_classes_kept:.2f} out of {num_classes} ({rate_classes_kept*100:.2f}%).\")\n",
        "    \n",
        "    return np.array(filtered_preds), filtered_preds_labels\n",
        "\n",
        "# Example usage:\n",
        "# Apply the filter on the evaluation set using a thresholds tuple for n=1 and n=2.\n",
        "filtered_eval_preds, filtered_eval_preds_labels = apply_filter_to_predictions(\n",
        "    # eval_preds_probs, eval_split, thresholds=(0.931, 0.54, 0.3, 0.17) # 0.8762\n",
        "    eval_preds_probs, eval_split, thresholds=(None, None, 0.3) # 0.8785\n",
        ")\n",
        "\n",
        "# After 72000 true label calls, 1% percentiles:\n",
        "#   1-gram: 0.9315\n",
        "#   2-gram: 0.5402\n",
        "#   3-gram: 0.3028\n",
        "#   4-gram: 0.1712\n",
        "\n",
        "# Display a few examples for verification.\n",
        "print(\"Examples of filtered predictions on the evaluation set:\")\n",
        "for i in range(5):\n",
        "    sample_text = eval_split[i][\"Text\"]\n",
        "    print(f\"Text (start): {sample_text[:50]}...  - Filtered prediction: {filtered_eval_preds_labels[i]}\")"
      ]
    },
    {
      "cell_type": "code",
      "execution_count": 26,
      "metadata": {},
      "outputs": [
        {
          "name": "stdout",
          "output_type": "stream",
          "text": [
            "Accuracy sur le jeu d'évaluation : 0.8693\n",
            "Accuracy sur le jeu d'évaluation (filtrage) : 0.8785\n"
          ]
        }
      ],
      "source": [
        "# Évaluation de la performance sur le jeu d'évaluation\n",
        "\n",
        "# Récupération des labels réels du dataset d'évaluation\n",
        "true_labels = np.array(eval_split[\"labels\"])\n",
        "\n",
        "# Calcul de l'accuracy sur le jeu d'évaluation\n",
        "eval_accuracy = accuracy_metric.compute(predictions=eval_preds, references=true_labels)[\"accuracy\"]\n",
        "print(f\"Accuracy sur le jeu d'évaluation : {eval_accuracy:.4f}\")\n",
        "\n",
        "filtered_eval_accuracy = accuracy_metric.compute(predictions=filtered_eval_preds, references=true_labels)[\"accuracy\"]\n",
        "print(f\"Accuracy sur le jeu d'évaluation (filtrage) : {filtered_eval_accuracy:.4f}\")"
      ]
    },
    {
      "cell_type": "code",
      "execution_count": 27,
      "metadata": {},
      "outputs": [
        {
          "name": "stdout",
          "output_type": "stream",
          "text": [
            "Exemples d'échantillons mal étiquetés avec comparaison d'exemple de texte pour le label prédit:\n",
            "\n",
            "---\n",
            "Label attendu      : ind\n",
            "Label prédit       : mad\n",
            "Texte d'entrée     :\n",
            "Ini seharusnya tidak terlalu panjang  terutama jika anda tahu peraturan poker dasar sebelumnya.\n",
            "Exemple pour le label prédit :\n",
            "Berinteraksi dengan siswa dari specialisms berbeda dan dengan kepentingan yang berbeda adalah bagian penting dari pengalaman University.\n",
            "\n",
            "---\n",
            "Label attendu      : ory\n",
            "Label prédit       : ori\n",
            "Texte d'entrée     :\n",
            "ନିର୍ଦ୍ଦେଶକ ଦିନେ କମ ଗଳାରେ ମତେ କହିଲେ – “ଖବରଦାର  କ୍ୟାମେରାମ୍ୟାନ ସାଂଗେ ଏତେ ହେଁ ହେଁ ଫେଁ ଫେଁ କ’ଣ?\n",
            "Exemple pour le label prédit :\n",
            "ମୁମ୍ବାଇ: ଷ୍ଟକ ବଜାରରେ ଆଜି ନିବେଶକମାନେ ବିପୁଳ ପରିମାଣର ସେୟାର ବିକ୍ରି କରିଦେବାରୁ ସେନସେକ୍ସରେ ୫୭୨ ପଏଣ୍ଟ୍‌ ହ୍ରାସ ଘଟିଛି। ଫଳରେ ଆଜି ସେନ୍‌ସେକ୍ସ ୩୫ ୩୧୨ ପଏଣ୍ଟ୍‌ରେ ବନ୍ଦ ହୋଇଛି। ସେହିପରି ଜାତୀୟ ଷ୍ଟକ ବଜାରର ନିଫ୍ଟି ମଧ୍ୟ ୧୮୧ ପଏଣ୍ଟ୍‌ ହ୍ରାସ ପାଇ ୧୦ ୬୦୧ ପଏଣ୍ଟ୍‌ରେ ବନ୍ଦ ହୋଇଛି। ବିଶ୍ବର ଅନେକ ଦେଶରେ ଷ୍ଟକ କାରବାର ମାନ୍ଦା ରହିବା ଯୋଗୁ ଭାରତରେ ତାହାର ପ୍ରଭାବ ପଡ଼ିଥିଲା। ସେନ୍‌ସେକ୍ସରେ ଆଜି ବଡ଼ ଧରଣର ହ୍ରାସ ହୋଇଥିବାରୁ ନିବେଶକମାନେ ୨ ଲକ୍ଷ ୨୯ ହଜାର କୋଟି ଟଙ୍କାର କ୍ଷତି ସହିଛନ୍ତି। ବିଗତ ତିନି ଦିନ ଭିତରେ ନିବେଶକମାନଙ୍କର ୩ ଲକ୍ଷ ୬୪ ହଜାର କୋଟି ଟଙ୍କାର କ୍ଷତି ହୋଇଛି।\n",
            "\n",
            "---\n",
            "Label attendu      : kin\n",
            "Label prédit       : sna\n",
            "Texte d'entrée     :\n",
            "Mu kiganiro twagiranye yadusobanuriye inzira y’inzitane yanyuzemo kuva akiri muto kugeza magingo aya  aho yemeza ko ibyo amaze kugeraho abikesha inama za Jeannette Kagame.\n",
            "Exemple pour le label prédit :\n",
            "Crissy Field ichapa imi mikana siyana kutendeusira hwandaiva kwavaizoenda kuva kudanana zuva. nzvimbo  rwaaimboparadza kushandiswa kuva US Army Banga  zvino rapinzwa Gate Golden National Recreation Area.\n",
            "\n",
            "---\n",
            "Label attendu      : sun\n",
            "Label prédit       : ban\n",
            "Texte d'entrée     :\n",
            "Saparantos kitu  teras eta istri ngadeuheus deui ka Sayyid Abdul Qodir  ceurik sareng tobat.\n",
            "Exemple pour le label prédit :\n",
            "Ia ngaryanin film pamuputne kabintangin El Moderno Barba Azul (1946) ring Meksiko  film punika marupa produksi antuk anggaran rendah  lan manawi nenten taen pabalih ring Amerika Serikat kantos karilis ring VHS saking 1980-an  antuk murda Boom in the Moon.\n",
            "\n",
            "---\n",
            "Label attendu      : fil\n",
            "Label prédit       : tgl\n",
            "Texte d'entrée     :\n",
            "Tinaguriang \"World's oldest living person\"  nagdiwang ng ika-117 na kaawarawan Isang babae ang kinumpirma ng Guinness World Records bilang \"oldest person alive\" na ipinagdiwang ang kanyang ika-117 kaarawan sa isang nursing care home sa kanlurang lungsod ng Japan nitong Enero 5.\n",
            "Exemple pour le label prédit :\n",
            "Kung ikaw ay pagod ng hindi mabilang ng mga compresses at lotions  mula sa radikal na naiiba  ngunit huwag bigyang-daan ang nais na epekto ng ang mga rekomendasyon ng mga doktor  pagkatapos ay mapilit na kailangan mag-book cream “FitoHeel”.\n",
            "\n",
            "---\n",
            "Label attendu      : uig\n",
            "Label prédit       : ton\n",
            "Texte d'entrée     :\n",
            "The colours felt honoured and delighted to be named as the sun’s official assistants. And the inhabitants of the world begged them to promise that  from that day on  the colours would always be on hand  to help cheer everyone up. It was agreed that whenever the clouds overdid it on the rain  the colours would come quickly and make a rainbow.\n",
            "Exemple pour le label prédit :\n",
            "Vakai foki ki he Sino ʻi ʻeiki.\n",
            "\n",
            "---\n",
            "Label attendu      : afb\n",
            "Label prédit       : ara\n",
            "Texte d'entrée     :\n",
            "ولكن حينما نعطيه كذا رموز معينه وانساعده\n",
            "Exemple pour le label prédit :\n",
            "وأكد المتحدث باسم الرئيس العراقي في بيان أصدره اليوم إن “إحدى وسائل الإعلام نشرت مقالا، اليوم، يتطرق إلى مقترح مشروع للرئيس العراقي حول سوريا، لكن هذه المعلومات غير دقيقة”.\n",
            "\n",
            "---\n",
            "Label attendu      : kab\n",
            "Label prédit       : ber\n",
            "Texte d'entrée     :\n",
            "Ur umineɣ ara serrḥen-awen imawlan-nwen ad d-tasem ɣer da weḥd-nwen.\n",
            "Exemple pour le label prédit :\n",
            "Cfiɣ fell-as  ur zmireɣ ara ad t-ttuɣ.\n",
            "\n",
            "---\n",
            "Label attendu      : gor\n",
            "Label prédit       : bis\n",
            "Texte d'entrée     :\n",
            "1756 - Wolfgang Amadeus Mozart  komposer Austria (wafat 1791)\n",
            "Exemple pour le label prédit :\n",
            "Ayako Faith Fujitani (boen 7 Desemba 1979) em i akta blong Japan.\n",
            "\n",
            "---\n",
            "Label attendu      : tat\n",
            "Label prédit       : bak\n",
            "Texte d'entrée     :\n",
            "Баҫтыртмайзар икән – тимәк  унда ла кемдер ултыра  үз максатын кыуып..\n",
            "Exemple pour le label prédit :\n",
            "Alay da  bik kiräksengännär 1-2 köngä genä bäbiläwne soñlata ala.\n"
          ]
        }
      ],
      "source": [
        "import random\n",
        "\n",
        "# Préparer un dictionnaire regroupant, pour chaque langue, la liste des textes du jeu d'entraînement\n",
        "train_by_label = {}\n",
        "for lang in le.classes_:\n",
        "    # Convertir le label en sa forme encodée\n",
        "    encoded = le.transform([lang])[0]\n",
        "    # Récupérer la liste des textes dont le label correspond\n",
        "    train_by_label[lang] = train_df[train_df[\"Label\"] == encoded][\"Text\"].tolist()\n",
        "\n",
        "print(\"Exemples d'échantillons mal étiquetés avec comparaison d'exemple de texte pour le label prédit:\")\n",
        "\n",
        "mislabeled_examples = []\n",
        "\n",
        "count = 0\n",
        "# Parcourir les échantillons du jeu d'évaluation\n",
        "for i in range(len(eval_split)):\n",
        "    # Récupérer le label attendu (vrai label) et le label prédit (après filtrage)\n",
        "    true_label = le.inverse_transform([eval_split[i][\"labels\"]])[0]\n",
        "    predicted_label = filtered_eval_preds_labels[i]\n",
        "    \n",
        "    # Si la prédiction est différente du vrai label, afficher l'exemple\n",
        "    if true_label != predicted_label:\n",
        "        input_text = eval_split[i][\"Text\"]\n",
        "        # Obtenir un exemple aléatoire du jeu d'entraînement pour le label prédit\n",
        "        candidate_texts = train_by_label.get(predicted_label, [])\n",
        "        random_example = random.choice(candidate_texts) if candidate_texts else \"Aucun exemple disponible.\"\n",
        "        \n",
        "        mislabeled_examples.append({\n",
        "            \"input_text\": input_text,\n",
        "            \"true_label\": true_label,\n",
        "            \"predicted_label\": predicted_label,\n",
        "            \"example_for_predicted\": random_example,\n",
        "            \"idx\": i\n",
        "        })\n",
        "        \n",
        "        print(\"\\n---\")\n",
        "        print(f\"Label attendu      : {true_label}\")\n",
        "        print(f\"Label prédit       : {predicted_label}\")\n",
        "        print(\"Texte d'entrée     :\")\n",
        "        print(input_text)\n",
        "        print(\"Exemple pour le label prédit :\")\n",
        "        print(random_example)\n",
        "        \n",
        "        count += 1\n",
        "        if count >= 10:\n",
        "            break"
      ]
    },
    {
      "cell_type": "code",
      "execution_count": 35,
      "metadata": {},
      "outputs": [
        {
          "name": "stderr",
          "output_type": "stream",
          "text": [
            "Sliding Window Attention is enabled but not implemented for `sdpa`; unexpected results may be encountered.\n",
            "Device set to use mps:0\n"
          ]
        }
      ],
      "source": [
        "from transformers import pipeline\n",
        "\n",
        "# Définir le modèle LLM à utiliser (facilement modifiable)\n",
        "# LLM_MODEL_NAME = \"deepseek-ai/DeepSeek-R1-Distill-Qwen-1.5B\"\n",
        "LLM_MODEL_NAME = \"Qwen/Qwen2.5-1.5B-Instruct\"\n",
        "# LLM_MODEL_NAME = \"CohereForAI/aya-101\"\n",
        "\n",
        "# Charger le pipeline de génération de texte\n",
        "llm_pipe = pipeline(\"text-generation\", model=LLM_MODEL_NAME, max_new_tokens=400)"
      ]
    },
    {
      "cell_type": "code",
      "execution_count": 36,
      "metadata": {},
      "outputs": [
        {
          "name": "stdout",
          "output_type": "stream",
          "text": [
            "Labellisation des 10 échecs en ISO 639-3 avec le LLM :\n",
            "\n",
            "---\n",
            "Exemple 1:\n",
            "Texte d'entrée (début) :\n",
            "Ini seharusnya tidak terlalu panjang  terutama jika anda tahu peraturan poker dasar sebelumnya....\n",
            "Label attendu : ind\n",
            "Top prédictions de DistilBert :\n",
            "mad\n",
            "ind\n",
            "ban\n",
            "sun\n",
            "zsm\n",
            "\n",
            "Réponse du LLM :\n",
            "{'role': 'assistant', 'content': 'The ISO 639-3 code for the language in the given text is \"en\" (English).'}\n",
            "\n",
            "---\n",
            "Exemple 2:\n",
            "Texte d'entrée (début) :\n",
            "ନିର୍ଦ୍ଦେଶକ ଦିନେ କମ ଗଳାରେ ମତେ କହିଲେ – “ଖବରଦାର  କ୍ୟାମେରାମ୍ୟାନ ସାଂଗେ ଏତେ ହେଁ ହେଁ ଫେଁ ଫେଁ କ’ଣ?...\n",
            "Label attendu : ory\n",
            "Top prédictions de DistilBert :\n",
            "ori\n",
            "ory\n",
            "\n",
            "Réponse du LLM :\n",
            "{'role': 'assistant', 'content': 'The ISO 639-3 code for Oriya (ଓଡ଼ିଆ) is \"or\".'}\n",
            "\n",
            "---\n",
            "Exemple 3:\n",
            "Texte d'entrée (début) :\n",
            "Mu kiganiro twagiranye yadusobanuriye inzira y’inzitane yanyuzemo kuva akiri muto kugeza magingo aya  aho yemeza ko ibyo amaze kugeraho abikesha inama za Jeannette Kagame....\n",
            "Label attendu : kin\n",
            "Top prédictions de DistilBert :\n",
            "sna\n",
            "kin\n",
            "zul\n",
            "run\n",
            "xho\n",
            "\n",
            "Réponse du LLM :\n",
            "{'role': 'assistant', 'content': 'Based on the provided text and language predictions, the most likely ISO 639-3 code for the language is \"run\".'}\n",
            "\n",
            "---\n",
            "Exemple 4:\n",
            "Texte d'entrée (début) :\n",
            "Saparantos kitu  teras eta istri ngadeuheus deui ka Sayyid Abdul Qodir  ceurik sareng tobat....\n",
            "Label attendu : sun\n",
            "Top prédictions de DistilBert :\n",
            "ban\n",
            "sun\n",
            "jav\n",
            "bjn\n",
            "mad\n",
            "\n",
            "Réponse du LLM :\n",
            "{'role': 'assistant', 'content': 'The ISO 639-3 code for the given text is \"sun\".'}\n",
            "\n",
            "---\n",
            "Exemple 5:\n",
            "Texte d'entrée (début) :\n",
            "Tinaguriang \"World's oldest living person\"  nagdiwang ng ika-117 na kaawarawan Isang babae ang kinumpirma ng Guinness World Records bilang \"oldest person alive\" na ipinagdiwang ang kanyang ika-117 kaa...\n",
            "Label attendu : fil\n",
            "Top prédictions de DistilBert :\n",
            "tgl\n",
            "fil\n",
            "bik\n",
            "tls\n",
            "bcl\n",
            "\n",
            "Réponse du LLM :\n",
            "{'role': 'assistant', 'content': 'The ISO 639-3 code for the language in the given text is \"tgl\". This indicates that the language is Tagalog (Tagalog).'}\n",
            "\n",
            "---\n",
            "Exemple 6:\n",
            "Texte d'entrée (début) :\n",
            "The colours felt honoured and delighted to be named as the sun’s official assistants. And the inhabitants of the world begged them to promise that  from that day on  the colours would always be on han...\n",
            "Label attendu : uig\n",
            "Top prédictions de DistilBert :\n",
            "ton\n",
            "uig\n",
            "tgk\n",
            "rap\n",
            "hin\n",
            "\n",
            "Réponse du LLM :\n",
            "{'role': 'assistant', 'content': 'hin'}\n",
            "\n",
            "---\n",
            "Exemple 7:\n",
            "Texte d'entrée (début) :\n",
            "ولكن حينما نعطيه كذا رموز معينه وانساعده...\n",
            "Label attendu : afb\n",
            "Top prédictions de DistilBert :\n",
            "ara\n",
            "afb\n",
            "acm\n",
            "aze\n",
            "ary\n",
            "\n",
            "Réponse du LLM :\n",
            "{'role': 'assistant', 'content': 'The ISO 639-3 code for the given text is \"ary\".'}\n",
            "\n",
            "---\n",
            "Exemple 8:\n",
            "Texte d'entrée (début) :\n",
            "Ur umineɣ ara serrḥen-awen imawlan-nwen ad d-tasem ɣer da weḥd-nwen....\n",
            "Label attendu : kab\n",
            "Top prédictions de DistilBert :\n",
            "ber\n",
            "kab\n",
            "kat\n",
            "wol\n",
            "tuk\n",
            "\n",
            "Réponse du LLM :\n",
            "{'role': 'assistant', 'content': 'The ISO 639-3 code for the language in the given text is \"tam\".'}\n",
            "\n",
            "---\n",
            "Exemple 9:\n",
            "Texte d'entrée (début) :\n",
            "1756 - Wolfgang Amadeus Mozart  komposer Austria (wafat 1791)...\n",
            "Label attendu : gor\n",
            "Top prédictions de DistilBert :\n",
            "bis\n",
            "ile\n",
            "epo\n",
            "diq\n",
            "vol\n",
            "\n",
            "Réponse du LLM :\n",
            "{'role': 'assistant', 'content': 'The most likely ISO 639-3 code for the given text is \"deu\", which stands for German. However, since you have provided a list of languages and one of them matches the text perfectly (\"bis\" in Bosnian), I will output that as the answer.\\n\\nISO 639-3 code: bis'}\n",
            "\n",
            "---\n",
            "Exemple 10:\n",
            "Texte d'entrée (début) :\n",
            "Баҫтыртмайзар икән – тимәк  унда ла кемдер ултыра  үз максатын кыуып.....\n",
            "Label attendu : tat\n",
            "Top prédictions de DistilBert :\n",
            "bak\n",
            "tat\n",
            "tuk\n",
            "chv\n",
            "tgk\n",
            "\n",
            "Réponse du LLM :\n",
            "{'role': 'assistant', 'content': 'The ISO 639-3 code for the language in the given text is \"bak\".'}\n"
          ]
        }
      ],
      "source": [
        "print(\"Labellisation des 10 échecs en ISO 639-3 avec le LLM :\")\n",
        "\n",
        "# On s'assure que la liste des exemples d'échecs est disponible (issue de la cellule précédente)\n",
        "# Si ce n'est pas le cas, on peut définir 'mislabeled_examples' ici.\n",
        "\n",
        "# Pour chaque échantillon mal étiqueté, on ajoute dans le prompt le top 10 des prédictions issues de notre modèle\n",
        "for i, ex in enumerate(mislabeled_examples):\n",
        "    idx = ex.get(\"idx\", None)\n",
        "    if idx is None:\n",
        "        print(f\"Exemple {i+1} : indice non disponible, le top 10 ne peut pas être calculé.\")\n",
        "        continue\n",
        "\n",
        "    # Récupérer le vecteur de probabilités pour cet échantillon\n",
        "    probs = eval_preds_probs[idx]\n",
        "    # Identifier les indices triés par ordre décroissant de probabilité, et conserver les 10 premiers\n",
        "    top_indices = np.argsort(-probs)[:4]\n",
        "    top_languages = le.inverse_transform(top_indices)\n",
        "    top_probs = probs[top_indices]\n",
        "    \n",
        "    # Récupérer le vecteur de probabilités brutes pour cet échantillon\n",
        "    probs = eval_preds_probs[idx]\n",
        "    # Obtenir les indices triés par ordre décroissant\n",
        "    sorted_indices = np.argsort(-probs)\n",
        "    \n",
        "    # Construire la liste des top 5 prédictions en éliminant celles qui ne passent pas le filtre alphabétique\n",
        "    top = []\n",
        "    input_text = ex[\"input_text\"]\n",
        "    for cand_idx in sorted_indices:\n",
        "        lang_candidate = le.inverse_transform([cand_idx])[0]\n",
        "        # Si le texte présente suffisamment de caractères typiques pour cette langue, on la garde\n",
        "        if filter_language_for_text(input_text, lang_candidate, threshold=0.9):\n",
        "            top.append(lang_candidate)\n",
        "        # On arrête dès qu'on a 5 candidats\n",
        "        if len(top) == 5:\n",
        "            break\n",
        "\n",
        "    # S'il n'y a pas assez de candidats après filtrage, on affiche ce qui a été trouvé\n",
        "    top_list = \"\\n\".join(top) if top else \"Aucun candidat retenu après filtrage.\"\n",
        "    \n",
        "    input_text = ex[\"input_text\"]\n",
        "    prompt = (\n",
        "        \"Output the ISO 639-3 code of the language of the following text. \"\n",
        "        \"Below are the most likely language predictions from our model with their probabilities:\\n\\n\"\n",
        "        f\"{top_list}\\n\\n\"\n",
        "        f\"Text:\\n{input_text}\\n\\n\"\n",
        "        \"ISO 639-3 code:\"\n",
        "    )\n",
        "\n",
        "    messages = [{\"role\": \"user\", \"content\": prompt}]\n",
        "    response = llm_pipe(messages)\n",
        "    generated_text = response[0][\"generated_text\"]\n",
        "\n",
        "    print(\"\\n---\")\n",
        "    print(f\"Exemple {i+1}:\")\n",
        "    print(\"Texte d'entrée (début) :\")\n",
        "    print(input_text[:200] + \"...\")\n",
        "    print(f\"Label attendu : {ex['true_label']}\")\n",
        "    print(f\"Top prédictions de DistilBert :\")\n",
        "    print(top_list)\n",
        "    print(\"\\nRéponse du LLM :\")\n",
        "    print(generated_text[-1])"
      ]
    },
    {
      "cell_type": "code",
      "execution_count": 28,
      "metadata": {},
      "outputs": [
        {
          "name": "stdout",
          "output_type": "stream",
          "text": [
            "model path: /Users/louisgauthier/.cache/huggingface/hub/models--cis-lmu--glotlid/snapshots/74cb50b709c9eefe0f790030c6c95c461b4e3b77/model.bin\n",
            "Prédictions FastText sur les 10 échecs mal étiquetés :\n",
            "\n",
            "---\n",
            "Exemple 1:\n",
            "Texte d'entrée (début) :\n",
            "Ini seharusnya tidak terlalu panjang  terutama jika anda tahu peraturan poker dasar sebelumnya....\n",
            "Label attendu : ind\n",
            "\n",
            "Top prédictions de DistilBert :\n",
            "mad - 0.7659\n",
            "ind - 0.2243\n",
            "ban - 0.0037\n",
            "sun - 0.0027\n",
            "zsm - 0.0014\n",
            "\n",
            "FastText Top 5 predictions :\n",
            "ind_Latn - 0.9446\n",
            "zsm_Latn - 0.0492\n",
            "btx_Latn - 0.0016\n",
            "bhw_Latn - 0.0015\n",
            "bbc_Latn - 0.0012\n",
            "\n",
            "---\n",
            "Exemple 2:\n",
            "Texte d'entrée (début) :\n",
            "ନିର୍ଦ୍ଦେଶକ ଦିନେ କମ ଗଳାରେ ମତେ କହିଲେ – “ଖବରଦାର  କ୍ୟାମେରାମ୍ୟାନ ସାଂଗେ ଏତେ ହେଁ ହେଁ ଫେଁ ଫେଁ କ’ଣ?...\n",
            "Label attendu : ory\n",
            "\n",
            "Top prédictions de DistilBert :\n",
            "ori - 0.1148\n",
            "ory - 0.0432\n",
            "\n",
            "FastText Top 5 predictions :\n",
            "ory_Orya - 0.9999\n",
            "jun_Orya - 0.0001\n",
            "und_Orya - 0.0000\n",
            "ben_Beng - 0.0000\n",
            "hye_Armn - 0.0000\n",
            "\n",
            "---\n",
            "Exemple 3:\n",
            "Texte d'entrée (début) :\n",
            "Mu kiganiro twagiranye yadusobanuriye inzira y’inzitane yanyuzemo kuva akiri muto kugeza magingo aya  aho yemeza ko ibyo amaze kugeraho abikesha inama za Jeannette Kagame....\n",
            "Label attendu : kin\n",
            "\n",
            "Top prédictions de DistilBert :\n",
            "sna - 0.9483\n",
            "kin - 0.0446\n",
            "zul - 0.0039\n",
            "run - 0.0007\n",
            "xho - 0.0006\n",
            "\n",
            "FastText Top 5 predictions :\n",
            "kin_Latn - 0.9946\n",
            "run_Latn - 0.0055\n",
            "cgg_Latn - 0.0000\n",
            "plu_Latn - 0.0000\n",
            "lug_Latn - 0.0000\n",
            "\n",
            "---\n",
            "Exemple 4:\n",
            "Texte d'entrée (début) :\n",
            "Saparantos kitu  teras eta istri ngadeuheus deui ka Sayyid Abdul Qodir  ceurik sareng tobat....\n",
            "Label attendu : sun\n",
            "\n",
            "Top prédictions de DistilBert :\n",
            "ban - 0.6133\n",
            "sun - 0.1744\n",
            "jav - 0.0981\n",
            "bjn - 0.0649\n",
            "mad - 0.0414\n",
            "\n",
            "FastText Top 5 predictions :\n",
            "sun_Latn - 1.0000\n",
            "mad_Latn - 0.0000\n",
            "ace_Latn - 0.0000\n",
            "ekk_Latn - 0.0000\n",
            "ban_Latn - 0.0000\n",
            "\n",
            "---\n",
            "Exemple 5:\n",
            "Texte d'entrée (début) :\n",
            "Tinaguriang \"World's oldest living person\"  nagdiwang ng ika-117 na kaawarawan Isang babae ang kinumpirma ng Guinness World Records bilang \"oldest person alive\" na ipinagdiwang ang kanyang ika-117 kaa...\n",
            "Label attendu : fil\n",
            "\n",
            "Top prédictions de DistilBert :\n",
            "tgl - 0.9565\n",
            "fil - 0.0277\n",
            "bik - 0.0097\n",
            "tls - 0.0039\n",
            "bcl - 0.0010\n",
            "\n",
            "FastText Top 5 predictions :\n",
            "fil_Latn - 0.9952\n",
            "bcl_Latn - 0.0031\n",
            "pag_Latn - 0.0012\n",
            "pam_Latn - 0.0004\n",
            "ceb_Latn - 0.0001\n",
            "\n",
            "---\n",
            "Exemple 6:\n",
            "Texte d'entrée (début) :\n",
            "The colours felt honoured and delighted to be named as the sun’s official assistants. And the inhabitants of the world begged them to promise that  from that day on  the colours would always be on han...\n",
            "Label attendu : uig\n",
            "\n",
            "Top prédictions de DistilBert :\n",
            "ton - 0.1611\n",
            "uig - 0.1496\n",
            "tgk - 0.1144\n",
            "rap - 0.1007\n",
            "hin - 0.0812\n",
            "\n",
            "FastText Top 5 predictions :\n",
            "eng_Latn - 0.9991\n",
            "jam_Latn - 0.0004\n",
            "enm_Latn - 0.0001\n",
            "sco_Latn - 0.0001\n",
            "nuj_Latn - 0.0001\n",
            "\n",
            "---\n",
            "Exemple 7:\n",
            "Texte d'entrée (début) :\n",
            "ولكن حينما نعطيه كذا رموز معينه وانساعده...\n",
            "Label attendu : afb\n",
            "\n",
            "Top prédictions de DistilBert :\n",
            "ara - 0.9266\n",
            "afb - 0.0583\n",
            "acm - 0.0028\n",
            "aze - 0.0024\n",
            "ary - 0.0021\n",
            "\n",
            "FastText Top 5 predictions :\n",
            "ars_Arab - 0.6029\n",
            "arb_Arab - 0.2527\n",
            "ajp_Arab - 0.1059\n",
            "aeb_Arab - 0.0168\n",
            "arz_Arab - 0.0129\n",
            "\n",
            "---\n",
            "Exemple 8:\n",
            "Texte d'entrée (début) :\n",
            "Ur umineɣ ara serrḥen-awen imawlan-nwen ad d-tasem ɣer da weḥd-nwen....\n",
            "Label attendu : kab\n",
            "\n",
            "Top prédictions de DistilBert :\n",
            "ber - 0.7813\n",
            "kab - 0.2178\n",
            "nso - 0.0002\n",
            "cuk - 0.0001\n",
            "kat - 0.0000\n",
            "\n",
            "FastText Top 5 predictions :\n",
            "kab_Latn - 1.0000\n",
            "taq_Latn - 0.0000\n",
            "aly_Latn - 0.0000\n",
            "thv_Latn - 0.0000\n",
            "tat_Latn - 0.0000\n",
            "\n",
            "---\n",
            "Exemple 9:\n",
            "Texte d'entrée (début) :\n",
            "1756 - Wolfgang Amadeus Mozart  komposer Austria (wafat 1791)...\n",
            "Label attendu : gor\n",
            "\n",
            "Top prédictions de DistilBert :\n",
            "bis - 0.2347\n",
            "ile - 0.1891\n",
            "epo - 0.1153\n",
            "diq - 0.0969\n",
            "vol - 0.0853\n",
            "\n",
            "FastText Top 5 predictions :\n",
            "ind_Latn - 0.6941\n",
            "sun_Latn - 0.0689\n",
            "pol_Latn - 0.0452\n",
            "dan_Latn - 0.0276\n",
            "jav_Latn - 0.0220\n",
            "\n",
            "---\n",
            "Exemple 10:\n",
            "Texte d'entrée (début) :\n",
            "Баҫтыртмайзар икән – тимәк  унда ла кемдер ултыра  үз максатын кыуып.....\n",
            "Label attendu : tat\n",
            "\n",
            "Top prédictions de DistilBert :\n",
            "bak - 0.9994\n",
            "tat - 0.0003\n",
            "tuk - 0.0001\n",
            "chv - 0.0000\n",
            "kjh - 0.0000\n",
            "\n",
            "FastText Top 5 predictions :\n",
            "bak_Cyrl - 0.9629\n",
            "tat_Cyrl - 0.0369\n",
            "xal_Cyrl - 0.0001\n",
            "tcy_Knda - 0.0000\n",
            "mrj_Cyrl - 0.0000\n"
          ]
        }
      ],
      "source": [
        "from huggingface_hub import hf_hub_download\n",
        "import importlib\n",
        "import fasttext\n",
        "import sys\n",
        "import importlib\n",
        "\n",
        "\n",
        "# Télécharger et charger le modèle FastText pour l'identification de la langue\n",
        "# model_path = hf_hub_download(repo_id=\"facebook/fasttext-language-identification\", filename=\"model.bin\")\n",
        "model_path = hf_hub_download(repo_id=\"cis-lmu/glotlid\", filename=\"model.bin\", cache_dir=None)\n",
        "print(\"model path:\", model_path)\n",
        "ft_model = fasttext.load_model(model_path)\n",
        "\n",
        "print(\"Prédictions FastText sur les 10 échecs mal étiquetés :\")\n",
        "\n",
        "# Pour chaque échantillon mal étiqueté, on ajoute dans le prompt le top 10 des prédictions issues de notre modèle\n",
        "for i, ex in enumerate(mislabeled_examples):\n",
        "    idx = ex.get(\"idx\", None)\n",
        "    if idx is None:\n",
        "        print(f\"Exemple {i+1} : indice non disponible, le top 10 ne peut pas être calculé.\")\n",
        "        continue\n",
        "\n",
        "    # Récupérer le vecteur de probabilités pour cet échantillon\n",
        "    probs = eval_preds_probs[idx]\n",
        "    # Identifier les indices triés par ordre décroissant de probabilité, et conserver les 10 premiers\n",
        "    top_indices = np.argsort(-probs)[:4]\n",
        "    top_languages = le.inverse_transform(top_indices)\n",
        "    top_probs = probs[top_indices]\n",
        "    \n",
        "    # Récupérer le vecteur de probabilités brutes pour cet échantillon\n",
        "    probs = eval_preds_probs[idx]\n",
        "    # Obtenir les indices triés par ordre décroissant\n",
        "    sorted_indices = np.argsort(-probs)\n",
        "    \n",
        "    # Construire la liste des top 5 prédictions en éliminant celles qui ne passent pas le filtre alphabétique\n",
        "    top = []\n",
        "    input_text = ex[\"input_text\"]\n",
        "    for cand_idx in sorted_indices:\n",
        "        lang_candidate = le.inverse_transform([cand_idx])[0]\n",
        "        # Si le texte présente suffisamment de caractères typiques pour cette langue, on la garde\n",
        "        if filter_language_for_text(input_text, lang_candidate, thresholds=(None, None, 0.3)):\n",
        "            top.append(f\"{lang_candidate} - {probs[cand_idx]:.4f}\")\n",
        "        # On arrête dès qu'on a 5 candidats\n",
        "        if len(top) == 5:\n",
        "            break\n",
        "\n",
        "    # S'il n'y a pas assez de candidats après filtrage, on affiche ce qui a été trouvé\n",
        "    top_list = \"\\n\".join(top) if top else \"Aucun candidat retenu après filtrage.\"\n",
        "    \n",
        "    # Obtenir les 5 prédictions avec leurs probabilités\n",
        "    predictions = ft_model.predict(input_text, k=5)\n",
        "    # predictions renvoie un tuple (labels, probabilities)\n",
        "    ft_labels = predictions[0]\n",
        "    ft_probs = predictions[1]\n",
        "    # Nettoyer les labels pour enlever le préfixe \"__label__\"\n",
        "    ft_labels_clean = [label.replace(\"__label__\", \"\") for label in ft_labels]\n",
        "    \n",
        "    print(\"\\n---\")\n",
        "    print(f\"Exemple {i+1}:\")\n",
        "    print(\"Texte d'entrée (début) :\")\n",
        "    print(input_text[:200] + \"...\")\n",
        "    print(f\"Label attendu : {ex['true_label']}\")\n",
        "    print(f\"\\nTop prédictions de DistilBert :\")\n",
        "    print(top_list)\n",
        "    print(\"\\nFastText Top 5 predictions :\")\n",
        "    for lab, prob in zip(ft_labels_clean, ft_probs):\n",
        "        print(f\"{lab} - {prob:.4f}\")"
      ]
    },
    {
      "cell_type": "code",
      "execution_count": 30,
      "metadata": {},
      "outputs": [
        {
          "name": "stderr",
          "output_type": "stream",
          "text": [
            "Prédictions FastText filtrées sur eval: 100%|██████████| 19060/19060 [00:13<00:00, 1430.41it/s]"
          ]
        },
        {
          "name": "stdout",
          "output_type": "stream",
          "text": [
            "FastText Accuracy with filtering on eval set: 0.7643\n"
          ]
        },
        {
          "name": "stderr",
          "output_type": "stream",
          "text": [
            "\n"
          ]
        }
      ],
      "source": [
        "from tqdm.auto import tqdm\n",
        "\n",
        "# Calculer les labels vrais sous forme de chaînes de caractères\n",
        "true_labels = [le.inverse_transform([example[\"labels\"]])[0] for example in eval_split]\n",
        "\n",
        "fasttext_filtered_preds = []\n",
        "ft_predictions = []\n",
        "# Pour chaque échantillon de l'ensemble d'évaluation, prédire la langue avec FastText en utilisant le filtrage\n",
        "for example in tqdm(eval_split, desc=\"Prédictions FastText filtrées sur eval\"):\n",
        "    text = example[\"Text\"]\n",
        "    # Obtenir les X meilleures prédictions de FastText\n",
        "    ft_prediction = ft_model.predict(text, k=10)\n",
        "    ft_labels, _ = ft_prediction\n",
        "    ft_predictions.append(ft_prediction)\n",
        "    \n",
        "    # Nettoyer les labels pour enlever le préfixe \"__label__\"\n",
        "    ft_labels_clean = [label.replace(\"__label__\", \"\").split(\"_\")[0] for label in ft_labels]\n",
        "    \n",
        "    # Appliquer le filtre pour vérifier que le texte contient suffisamment de caractères typiques de la langue\n",
        "    chosen_label = None\n",
        "    for label in ft_labels_clean:\n",
        "        if filter_language_for_text(text, label, thresholds=(None, None, 0.3)):\n",
        "            chosen_label = label\n",
        "            break\n",
        "    # Si aucune prédiction ne passe le filtre, on utilise la meilleure prédiction (premier label)\n",
        "    if chosen_label is None:\n",
        "        chosen_label = ft_labels_clean[0]\n",
        "    \n",
        "    fasttext_filtered_preds.append(chosen_label)\n",
        "\n",
        "# Calcul de l'accuracy\n",
        "correct = sum(1 for true, pred in zip(true_labels, fasttext_filtered_preds) if true == pred)\n",
        "accuracy = correct / len(true_labels)\n",
        "print(\"FastText Accuracy with filtering on eval set: {:.4f}\".format(accuracy))\n"
      ]
    },
    {
      "cell_type": "code",
      "execution_count": 88,
      "metadata": {},
      "outputs": [
        {
          "name": "stderr",
          "output_type": "stream",
          "text": [
            "Evaluating mixed predictions: 100%|██████████| 19060/19060 [00:12<00:00, 1567.81it/s]\n"
          ]
        },
        {
          "name": "stdout",
          "output_type": "stream",
          "text": [
            "Rate of DistilBERT predictions used: 0.18\n",
            "Mixed model accuracy on eval set: 0.8836\n"
          ]
        }
      ],
      "source": [
        "from tqdm.auto import tqdm\n",
        "import time\n",
        "import numpy as np\n",
        "\n",
        "final_mixed_preds = []\n",
        "db_predictions_count = 0\n",
        "\n",
        "# Iterate over evaluation samples with their corresponding probability vectors\n",
        "for i, example in tqdm(enumerate(eval_split), total=len(eval_split), desc=\"Evaluating mixed predictions\"):\n",
        "    t = time.time()\n",
        "    \n",
        "    text = example[\"Text\"]\n",
        "    # Retrieve the probability vector for this sample (from DistilBERT predictions)\n",
        "    probs = eval_preds_probs[i]\n",
        "    # Get sorted indices (highest probability first)\n",
        "    sorted_indices = np.argsort(-probs)\n",
        "    \n",
        "    # Build the filtered top 5 candidates from DistilBERT\n",
        "    filtered_top5 = []\n",
        "    for cand_idx in sorted_indices:\n",
        "        lang_candidate = le.inverse_transform([cand_idx])[0]\n",
        "        if filter_language_for_text(text, lang_candidate, thresholds=(None, None, 0.3)):\n",
        "            filtered_top5.append(lang_candidate)\n",
        "        if len(filtered_top5) == 5 or probs[cand_idx] < 0.02:\n",
        "            break\n",
        "    # If no candidate passes the filter, fallback to the top prediction of DistilBERT\n",
        "    if len(filtered_top5) == 0:\n",
        "        filtered_top5 = [le.inverse_transform([np.argmax(probs)])[0]]\n",
        "        \n",
        "    # print(f\"Time for DistilBERT: {time.time() - t:.4f}\")\n",
        "    t = time.time()\n",
        "    \n",
        "    # Get FastText predictions for the sample and build a dictionary for quick lookup.\n",
        "    # ft_prediction[0] contains label strings like \"__label__xx\"\n",
        "    # ft_prediction[1] contains their associated probabilities.\n",
        "    ft_prediction = ft_predictions[i]\n",
        "    ft_dict = {label.replace(\"__label__\", \"\").split(\"_\")[0]: prob \n",
        "               for label, prob in zip(ft_prediction[0], ft_prediction[1])}\n",
        "    \n",
        "    # Average each probability by the FastText probability for the same label\n",
        "    avg_probs = np.zeros(len(le.classes_))\n",
        "    for j, label in enumerate(le.classes_):\n",
        "        ft_prob = ft_dict.get(label, None)\n",
        "        if ft_prob is not None:\n",
        "            avg_probs[j] = (probs[j] * 0.5 + ft_prob * 0.5)\n",
        "            # avg_probs[j] = probs[j] * ft_prob\n",
        "        else:\n",
        "            avg_probs[j] = probs[j]\n",
        "    \n",
        "    # If DistilBERT's top probability is above 0.9, use it directly\n",
        "    if probs[sorted_indices[0]] > 0.9:\n",
        "        final_label = le.inverse_transform([sorted_indices[0]])[0]\n",
        "    else:\n",
        "        final_label = le.inverse_transform([np.argmax(avg_probs)])[0]\n",
        "    \n",
        "    # If final label is not in filtered top 5, use the first fasttext prediction\n",
        "    if final_label not in filtered_top5:\n",
        "        final_label = filtered_top5[0]\n",
        "        db_predictions_count += 1\n",
        "    else:\n",
        "        # If final label is not in ft_labels, increase db_predictions_count\n",
        "        if final_label not in ft_dict:\n",
        "            db_predictions_count += 1\n",
        "    \n",
        "    final_mixed_preds.append(final_label)\n",
        "\n",
        "print(\"Rate of DistilBERT predictions used: {:.2f}\".format(db_predictions_count / len(eval_split)))\n",
        "\n",
        "# Compute the accuracy of the mixed model on the eval set\n",
        "true_labels = [le.inverse_transform([example[\"labels\"]])[0] for example in eval_split]\n",
        "correct = sum(1 for true, pred in zip(true_labels, final_mixed_preds) if true == pred)\n",
        "accuracy_mixed = correct / len(true_labels)\n",
        "print(\"Mixed model accuracy on eval set: {:.4f}\".format(accuracy_mixed))\n",
        "\n"
      ]
    },
    {
      "cell_type": "code",
      "execution_count": 41,
      "metadata": {},
      "outputs": [
        {
          "name": "stderr",
          "output_type": "stream",
          "text": [
            "/var/folders/_8/vpwl6kq551v_bt6m3llx5n9c0000gn/T/ipykernel_16777/3168629674.py:37: DeprecationWarning: DataFrameGroupBy.apply operated on the grouping columns. This behavior is deprecated, and in a future version of pandas the grouping columns will be excluded from the operation. Either pass `include_groups=False` to exclude the groupings or explicitly select the grouping columns after groupby to silence this warning.\n",
            "  group_stats = df_group_stats.groupby('group_key').apply(lambda group: pd.Series({\n"
          ]
        },
        {
          "name": "stdout",
          "output_type": "stream",
          "text": [
            "Group-wise accuracy rates computed on the first half:\n",
            "       group_key  count  distilbert_accuracy  fasttext_accuracy\n",
            "0     (abk, abk)   31.0             1.000000                1.0\n",
            "1     (ace, ace)   29.0             1.000000                1.0\n",
            "2     (ach, ach)    7.0             1.000000                1.0\n",
            "3     (acm, acm)    2.0             0.500000                0.5\n",
            "4     (acm, apc)    7.0             0.428571                0.0\n",
            "...          ...    ...                  ...                ...\n",
            "1020  (nan, eml)    1.0             0.000000                0.0\n",
            "1021  (nan, nan)    6.0             0.000000                0.0\n",
            "1022  (nan, sun)    1.0             0.000000                0.0\n",
            "1023  (nan, uig)    1.0             0.000000                0.0\n",
            "1024  (nan, vie)   14.0             0.000000                0.0\n",
            "\n",
            "[1025 rows x 4 columns]\n",
            "\n",
            "Evaluation half overall accuracies:\n",
            "DistilBERT Accuracy: 0.8746\n",
            "FastText Accuracy:   0.7624\n",
            "Final Combined Model Accuracy: 0.8782\n"
          ]
        }
      ],
      "source": [
        "import pandas as pd\n",
        "\n",
        "# === Split the evaluation set into two halves ===\n",
        "# (Assumes that `eval_split`, `filtered_eval_preds_labels` (DistilBERT),\n",
        "#  and `fasttext_filtered_preds` (FastText) are already computed)\n",
        "\n",
        "# Create a dataframe for the evaluation set using the true labels and predictions.\n",
        "true_labels = [le.inverse_transform([ex[\"labels\"]])[0] for ex in eval_split]\n",
        "df_eval = pd.DataFrame({\n",
        "    'true_label': true_labels,\n",
        "    'distilbert_pred': filtered_eval_preds_labels,\n",
        "    'fasttext_pred': fasttext_filtered_preds\n",
        "})\n",
        "\n",
        "# Split into two halves: one for computing group stats and one for evaluation.\n",
        "split_index = len(df_eval) // 2\n",
        "df_group_stats = df_eval.iloc[:split_index].copy()  # For computing group statistics.\n",
        "df_eval_eval   = df_eval.iloc[split_index:].copy()   # For evaluation of the final decision.\n",
        "\n",
        "# === Define the grouping key ===\n",
        "# Options for grouping_type: \"both\", \"distilbert\", or \"fasttext\".\n",
        "grouping_type = \"both\"  # Change as needed.\n",
        "\n",
        "if grouping_type == \"both\":\n",
        "    df_group_stats['group_key'] = list(zip(df_group_stats['distilbert_pred'], df_group_stats['fasttext_pred']))\n",
        "    df_eval_eval['group_key']   = list(zip(df_eval_eval['distilbert_pred'], df_eval_eval['fasttext_pred']))\n",
        "elif grouping_type == \"distilbert\":\n",
        "    df_group_stats['group_key'] = df_group_stats['distilbert_pred']\n",
        "    df_eval_eval['group_key']   = df_eval_eval['distilbert_pred']\n",
        "elif grouping_type == \"fasttext\":\n",
        "    df_group_stats['group_key'] = df_group_stats['fasttext_pred']\n",
        "    df_eval_eval['group_key']   = df_eval_eval['fasttext_pred']\n",
        "else:\n",
        "    raise ValueError(\"Invalid grouping_type specified.\")\n",
        "\n",
        "# === Compute group statistics on the first half ===\n",
        "group_stats = df_group_stats.groupby('group_key').apply(lambda group: pd.Series({\n",
        "    'count': len(group),\n",
        "    'distilbert_accuracy': (group['true_label'] == group['distilbert_pred']).mean(),\n",
        "    'fasttext_accuracy':   (group['true_label'] == group['fasttext_pred']).mean()\n",
        "})).reset_index()\n",
        "\n",
        "print(\"Group-wise accuracy rates computed on the first half:\")\n",
        "print(group_stats)\n",
        "\n",
        "# === Decide final predictions on the second half based on the group stats ===\n",
        "def choose_prediction(row, group_stats_df):\n",
        "    key = row['group_key']\n",
        "    group = group_stats_df[group_stats_df['group_key'] == key]\n",
        "    if not group.empty:\n",
        "        d_acc = group['distilbert_accuracy'].values[0]\n",
        "        f_acc = group['fasttext_accuracy'].values[0]\n",
        "        # If FastText's accuracy is higher, choose its prediction; otherwise, choose DistilBERT's.\n",
        "        return row['fasttext_pred'] if f_acc > d_acc else row['distilbert_pred']\n",
        "    else:\n",
        "        # Fallback: default to DistilBERT if the group isn’t found.\n",
        "        return row['distilbert_pred']\n",
        "\n",
        "df_eval_eval['final_pred'] = df_eval_eval.apply(lambda row: choose_prediction(row, group_stats), axis=1)\n",
        "\n",
        "# === Report overall accuracies on the evaluation half ===\n",
        "overall_distilbert_acc = (df_eval_eval['true_label'] == df_eval_eval['distilbert_pred']).mean()\n",
        "overall_fasttext_acc   = (df_eval_eval['true_label'] == df_eval_eval['fasttext_pred']).mean()\n",
        "overall_final_acc      = (df_eval_eval['true_label'] == df_eval_eval['final_pred']).mean()\n",
        "\n",
        "print(\"\\nEvaluation half overall accuracies:\")\n",
        "print(f\"DistilBERT Accuracy: {overall_distilbert_acc:.4f}\")\n",
        "print(f\"FastText Accuracy:   {overall_fasttext_acc:.4f}\")\n",
        "print(f\"Final Combined Model Accuracy: {overall_final_acc:.4f}\")\n"
      ]
    },
    {
      "cell_type": "code",
      "execution_count": 64,
      "metadata": {},
      "outputs": [
        {
          "name": "stdout",
          "output_type": "stream",
          "text": [
            "Candidate thresholds and their accuracies on first half:\n",
            "Threshold: 0.01 - Accuracy: 0.8779\n",
            "Threshold: 0.02 - Accuracy: 0.8779\n",
            "Threshold: 0.03 - Accuracy: 0.8779\n",
            "Threshold: 0.04 - Accuracy: 0.8779\n",
            "Threshold: 0.05 - Accuracy: 0.8779\n",
            "Threshold: 0.06 - Accuracy: 0.8779\n",
            "Threshold: 0.07 - Accuracy: 0.8779\n",
            "Threshold: 0.08 - Accuracy: 0.8779\n",
            "Threshold: 0.09 - Accuracy: 0.8779\n",
            "Threshold: 0.10 - Accuracy: 0.8779\n",
            "Threshold: 0.11 - Accuracy: 0.8779\n",
            "Threshold: 0.12 - Accuracy: 0.8779\n",
            "Threshold: 0.13 - Accuracy: 0.8780\n",
            "Threshold: 0.14 - Accuracy: 0.8779\n",
            "Threshold: 0.15 - Accuracy: 0.8780\n",
            "Threshold: 0.16 - Accuracy: 0.8780\n",
            "Threshold: 0.17 - Accuracy: 0.8780\n",
            "Threshold: 0.18 - Accuracy: 0.8780\n",
            "Threshold: 0.19 - Accuracy: 0.8780\n",
            "Threshold: 0.20 - Accuracy: 0.8780\n",
            "Threshold: 0.21 - Accuracy: 0.8779\n",
            "Threshold: 0.22 - Accuracy: 0.8779\n",
            "Threshold: 0.23 - Accuracy: 0.8778\n",
            "Threshold: 0.24 - Accuracy: 0.8775\n",
            "Threshold: 0.25 - Accuracy: 0.8775\n",
            "Threshold: 0.26 - Accuracy: 0.8775\n",
            "Threshold: 0.27 - Accuracy: 0.8778\n",
            "Threshold: 0.28 - Accuracy: 0.8776\n",
            "Threshold: 0.29 - Accuracy: 0.8778\n",
            "Threshold: 0.30 - Accuracy: 0.8779\n",
            "Threshold: 0.31 - Accuracy: 0.8778\n",
            "Threshold: 0.32 - Accuracy: 0.8778\n",
            "Threshold: 0.33 - Accuracy: 0.8779\n",
            "Threshold: 0.34 - Accuracy: 0.8779\n",
            "Threshold: 0.35 - Accuracy: 0.8775\n",
            "Threshold: 0.36 - Accuracy: 0.8772\n",
            "Threshold: 0.37 - Accuracy: 0.8775\n",
            "Threshold: 0.38 - Accuracy: 0.8778\n",
            "Threshold: 0.39 - Accuracy: 0.8779\n",
            "Threshold: 0.40 - Accuracy: 0.8781\n",
            "Threshold: 0.41 - Accuracy: 0.8786\n",
            "Threshold: 0.42 - Accuracy: 0.8783\n",
            "Threshold: 0.43 - Accuracy: 0.8780\n",
            "Threshold: 0.44 - Accuracy: 0.8773\n",
            "Threshold: 0.45 - Accuracy: 0.8774\n",
            "Threshold: 0.46 - Accuracy: 0.8771\n",
            "Threshold: 0.47 - Accuracy: 0.8774\n",
            "Threshold: 0.48 - Accuracy: 0.8774\n",
            "Threshold: 0.49 - Accuracy: 0.8775\n",
            "Threshold: 0.50 - Accuracy: 0.8772\n",
            "Threshold: 0.51 - Accuracy: 0.8773\n",
            "Threshold: 0.52 - Accuracy: 0.8774\n",
            "Threshold: 0.53 - Accuracy: 0.8776\n",
            "Threshold: 0.54 - Accuracy: 0.8775\n",
            "Threshold: 0.55 - Accuracy: 0.8784\n",
            "Threshold: 0.56 - Accuracy: 0.8784\n",
            "Threshold: 0.57 - Accuracy: 0.8781\n",
            "Threshold: 0.58 - Accuracy: 0.8782\n",
            "Threshold: 0.59 - Accuracy: 0.8782\n",
            "Threshold: 0.60 - Accuracy: 0.8785\n",
            "Threshold: 0.61 - Accuracy: 0.8783\n",
            "Threshold: 0.62 - Accuracy: 0.8784\n",
            "Threshold: 0.63 - Accuracy: 0.8786\n",
            "Threshold: 0.64 - Accuracy: 0.8784\n",
            "Threshold: 0.65 - Accuracy: 0.8786\n",
            "Threshold: 0.66 - Accuracy: 0.8793\n",
            "Threshold: 0.67 - Accuracy: 0.8799\n",
            "Threshold: 0.68 - Accuracy: 0.8793\n",
            "Threshold: 0.69 - Accuracy: 0.8790\n",
            "Threshold: 0.70 - Accuracy: 0.8783\n",
            "Threshold: 0.71 - Accuracy: 0.8784\n",
            "Threshold: 0.72 - Accuracy: 0.8773\n",
            "Threshold: 0.73 - Accuracy: 0.8771\n",
            "Threshold: 0.74 - Accuracy: 0.8762\n",
            "Threshold: 0.75 - Accuracy: 0.8758\n",
            "Threshold: 0.76 - Accuracy: 0.8760\n",
            "Threshold: 0.77 - Accuracy: 0.8762\n",
            "Threshold: 0.78 - Accuracy: 0.8753\n",
            "Threshold: 0.79 - Accuracy: 0.8756\n",
            "Threshold: 0.80 - Accuracy: 0.8748\n",
            "Threshold: 0.81 - Accuracy: 0.8744\n",
            "Threshold: 0.82 - Accuracy: 0.8738\n",
            "Threshold: 0.83 - Accuracy: 0.8730\n",
            "Threshold: 0.84 - Accuracy: 0.8726\n",
            "Threshold: 0.85 - Accuracy: 0.8719\n",
            "Threshold: 0.86 - Accuracy: 0.8710\n",
            "Threshold: 0.87 - Accuracy: 0.8699\n",
            "Threshold: 0.88 - Accuracy: 0.8686\n",
            "Threshold: 0.89 - Accuracy: 0.8681\n",
            "Threshold: 0.90 - Accuracy: 0.8673\n",
            "Threshold: 0.91 - Accuracy: 0.8669\n",
            "Threshold: 0.92 - Accuracy: 0.8651\n",
            "Threshold: 0.93 - Accuracy: 0.8632\n",
            "Threshold: 0.94 - Accuracy: 0.8611\n",
            "Threshold: 0.95 - Accuracy: 0.8591\n",
            "Threshold: 0.96 - Accuracy: 0.8568\n",
            "Threshold: 0.97 - Accuracy: 0.8538\n",
            "Threshold: 0.98 - Accuracy: 0.8492\n",
            "Threshold: 0.99 - Accuracy: 0.8391\n",
            "\n",
            "Best threshold on first half: 0.67 with accuracy: 0.8799\n",
            "\n",
            "Accuracy on second half with threshold 0.67: 0.8739\n"
          ]
        }
      ],
      "source": [
        "import numpy as np\n",
        "\n",
        "# === Prepare evaluation split for threshold search ===\n",
        "# Assume that df_eval (with columns 'true_label', 'distilbert_pred', 'fasttext_pred')\n",
        "# and eval_preds_probs (with probabilities for each eval sample) are already defined.\n",
        "# Also, 'split_index' was computed as len(df_eval) // 2.\n",
        "\n",
        "# First half indices (for threshold tuning)\n",
        "first_half_indices = list(range(split_index))\n",
        "max_probs_first = [np.max(eval_preds_probs[i]) for i in first_half_indices]\n",
        "\n",
        "# Extract first half predictions from df_eval\n",
        "df_first_half = df_eval.iloc[:split_index].copy()\n",
        "true_labels_first = df_first_half['true_label'].tolist()\n",
        "distilbert_first   = df_first_half['distilbert_pred'].tolist()\n",
        "fasttext_first     = df_first_half['fasttext_pred'].tolist()\n",
        "\n",
        "# Define a switching function\n",
        "def switch_prediction(distilbert_pred, fasttext_pred, max_prob, threshold):\n",
        "    return fasttext_pred if max_prob < threshold else distilbert_pred\n",
        "\n",
        "# === Search for best threshold on the first half ===\n",
        "candidate_thresholds = np.arange(0.01, 1.0, 0.01)\n",
        "best_threshold = None\n",
        "best_acc = 0.0\n",
        "threshold_accuracies = {}\n",
        "\n",
        "for threshold in candidate_thresholds:\n",
        "    final_preds_first = [\n",
        "        switch_prediction(d, f, p, threshold)\n",
        "        for d, f, p in zip(distilbert_first, fasttext_first, max_probs_first)\n",
        "    ]\n",
        "    acc = np.mean([true == pred for true, pred in zip(true_labels_first, final_preds_first)])\n",
        "    threshold_accuracies[threshold] = acc\n",
        "    if acc > best_acc:\n",
        "        best_acc = acc\n",
        "        best_threshold = threshold\n",
        "\n",
        "print(\"Candidate thresholds and their accuracies on first half:\")\n",
        "for th, acc in threshold_accuracies.items():\n",
        "    print(f\"Threshold: {th:.2f} - Accuracy: {acc:.4f}\")\n",
        "    \n",
        "print(f\"\\nBest threshold on first half: {best_threshold:.2f} with accuracy: {best_acc:.4f}\")\n",
        "\n",
        "# === Apply the best threshold on the second half ===\n",
        "second_half_indices = list(range(split_index, len(eval_split)))\n",
        "max_probs_second = [np.max(eval_preds_probs[i]) for i in second_half_indices]\n",
        "\n",
        "df_second_half = df_eval.iloc[split_index:].copy()\n",
        "true_labels_second = df_second_half['true_label'].tolist()\n",
        "distilbert_second   = df_second_half['distilbert_pred'].tolist()\n",
        "fasttext_second     = df_second_half['fasttext_pred'].tolist()\n",
        "\n",
        "final_preds_second = [\n",
        "    switch_prediction(d, f, p, best_threshold)\n",
        "    for d, f, p in zip(distilbert_second, fasttext_second, max_probs_second)\n",
        "]\n",
        "acc_second = np.mean([true == pred for true, pred in zip(true_labels_second, final_preds_second)])\n",
        "print(f\"\\nAccuracy on second half with threshold {best_threshold:.2f}: {acc_second:.4f}\")\n"
      ]
    },
    {
      "cell_type": "markdown",
      "metadata": {
        "id": "DTmKQTCcNQMk"
      },
      "source": [
        "## Export de la solution"
      ]
    },
    {
      "cell_type": "code",
      "execution_count": 34,
      "metadata": {},
      "outputs": [
        {
          "name": "stderr",
          "output_type": "stream",
          "text": [
            "Prédiction sur pred_labels_test.csv: 100%|██████████| 11911/11911 [27:38<00:00,  7.18it/s]\n"
          ]
        },
        {
          "name": "stdout",
          "output_type": "stream",
          "text": [
            "Prédictions sauvegardées dans predictions/pred_labels_test.csv\n"
          ]
        },
        {
          "name": "stderr",
          "output_type": "stream",
          "text": [
            "Filtering predictions: 100%|██████████| 190567/190567 [35:37<00:00, 89.17it/s] \n"
          ]
        },
        {
          "name": "stdout",
          "output_type": "stream",
          "text": [
            "Average number of classes kept: 185.86 out of 390 (47.66%).\n",
            "Filtered test predictions exported to predictions/filtered_pred_labels_test.csv\n"
          ]
        }
      ],
      "source": [
        "# --- DistilBERT-only Predictions on Test Set with Filtering ---\n",
        "import pickle\n",
        "\n",
        "# 1. Obtain DistilBERT predictions on the test set.\n",
        "test_preds, test_preds_probs, test_preds_labels = predict_and_save(test_dataloader, \"pred_labels_test.csv\")\n",
        "\n",
        "# Pickle the test predictions in cache folder for later use\n",
        "with open(f\"{cache_dir}/test_preds.pkl\", \"wb\") as f:\n",
        "    pickle.dump((test_preds, test_preds_probs, test_preds_labels), f)\n",
        "\n",
        "# 2. Apply the filtering function to the DistilBERT predictions.\n",
        "#    (Here, we use the thresholds tuple (None, None, 0.3) as in your example.)\n",
        "filtered_test_preds, filtered_test_preds_labels = apply_filter_to_predictions(\n",
        "    test_preds_probs, test_dataset, thresholds=(None, None, 0.3)\n",
        ")\n",
        "\n",
        "# Pickle the filtered test predictions in cache folder for later use\n",
        "with open(f\"{cache_dir}/filtered_test_preds.pkl\", \"wb\") as f:\n",
        "    pickle.dump((filtered_test_preds, filtered_test_preds_labels), f)\n",
        "\n",
        "# 3. Export the filtered predictions to CSV.\n",
        "output_file = \"predictions/filtered_pred_labels_test.csv\"\n",
        "with open(output_file, \"w\", encoding=\"utf-8\") as f:\n",
        "    f.write(\"ID,Label\\n\")\n",
        "    for idx, label in enumerate(filtered_test_preds_labels):\n",
        "        f.write(f\"{idx+1},{label}\\n\")\n",
        "print(f\"Filtered test predictions exported to {output_file}\")\n"
      ]
    },
    {
      "cell_type": "code",
      "execution_count": 43,
      "metadata": {},
      "outputs": [
        {
          "name": "stdout",
          "output_type": "stream",
          "text": [
            "Computing FastText predictions on test set...\n"
          ]
        },
        {
          "name": "stderr",
          "output_type": "stream",
          "text": [
            "FastText on Test: 100%|██████████| 190567/190567 [02:05<00:00, 1516.01it/s]\n"
          ]
        }
      ],
      "source": [
        "# 2. Compute FastText predictions for each test sample.\n",
        "fasttext_test_preds = []  # final selected label per sample from FastText\n",
        "ft_test_predictions = []  # full FastText prediction tuple per sample\n",
        "\n",
        "print(\"Computing FastText predictions on test set...\")\n",
        "for example in tqdm(test_dataset, desc=\"FastText on Test\"):\n",
        "    text = example[\"Text\"]\n",
        "    # Get top-10 FastText predictions.\n",
        "    ft_pred = ft_model.predict(text, k=10)\n",
        "    ft_test_predictions.append(ft_pred)\n",
        "    # Clean the labels (remove \"__label__\" and extra parts)\n",
        "    ft_labels = [label.replace(\"__label__\", \"\").split(\"_\")[0] for label in ft_pred[0]]\n",
        "    # Apply filtering: select the first candidate that passes our n-gram thresholds.\n",
        "    chosen_label = None\n",
        "    for label in ft_labels:\n",
        "        if filter_language_for_text(text, label, thresholds=(None, None, 0.3), timing_debug=False):\n",
        "            chosen_label = label\n",
        "            break\n",
        "    # If none passes the filter, fallback to the top FastText prediction.\n",
        "    if chosen_label is None:\n",
        "        chosen_label = ft_labels[0]\n",
        "    fasttext_test_preds.append(chosen_label)"
      ]
    },
    {
      "cell_type": "code",
      "execution_count": 89,
      "metadata": {
        "id": "OfC-N3ncAIHV"
      },
      "outputs": [
        {
          "name": "stdout",
          "output_type": "stream",
          "text": [
            "Combining predictions for final test output...\n"
          ]
        },
        {
          "name": "stderr",
          "output_type": "stream",
          "text": [
            "Final Combination: 100%|██████████| 190567/190567 [01:52<00:00, 1692.90it/s]"
          ]
        },
        {
          "name": "stdout",
          "output_type": "stream",
          "text": [
            "Final test predictions exported to predictions/filtered_weighted_pred_labels_test.csv\n"
          ]
        },
        {
          "name": "stderr",
          "output_type": "stream",
          "text": [
            "\n"
          ]
        }
      ],
      "source": [
        "# 3. Combine DistilBERT and FastText predictions.\n",
        "final_mixed_test_preds = []\n",
        "print(\"Combining predictions for final test output...\")\n",
        "for i, example in tqdm(enumerate(test_dataset), total=len(test_dataset), desc=\"Final Combination\"):\n",
        "    text = example[\"Text\"]\n",
        "    # DistilBERT probability vector for this sample.\n",
        "    probs = test_preds_probs[i]\n",
        "    sorted_indices = np.argsort(-probs)\n",
        "    \n",
        "    # Build filtered candidate list from DistilBERT predictions.\n",
        "    filtered_top5 = []\n",
        "    for cand_idx in sorted_indices:\n",
        "        lang_candidate = le.inverse_transform([cand_idx])[0]\n",
        "        if filter_language_for_text(text, lang_candidate, thresholds=(None, None, 0.3), timing_debug=False):\n",
        "            filtered_top5.append(lang_candidate)\n",
        "        if len(filtered_top5) == 5 or probs[cand_idx] < 0.02:\n",
        "            break\n",
        "    if len(filtered_top5) == 0:\n",
        "        filtered_top5 = [le.inverse_transform([np.argmax(probs)])[0]]\n",
        "    \n",
        "    # Get FastText predictions (and probabilities) for this sample.\n",
        "    ft_pred = ft_test_predictions[i]\n",
        "    ft_dict = {label.replace(\"__label__\", \"\").split(\"_\")[0]: prob \n",
        "               for label, prob in zip(ft_pred[0], ft_pred[1])}\n",
        "    \n",
        "    # Average probabilities from DistilBERT and FastText.\n",
        "    avg_probs = np.zeros(len(le.classes_))\n",
        "    for j, label in enumerate(le.classes_):\n",
        "        ft_prob = ft_dict.get(label, None)\n",
        "        if ft_prob is not None:\n",
        "            avg_probs[j] = (probs[j] * 0.5 + ft_prob * 0.5)\n",
        "        else:\n",
        "            avg_probs[j] = probs[j]\n",
        "            \n",
        "    # If DistilBERT's top probability is above 0.9, use it directly\n",
        "    if probs[sorted_indices[0]] > 0.9:\n",
        "        final_label = le.inverse_transform([sorted_indices[0]])[0]\n",
        "    else:\n",
        "        final_label = le.inverse_transform([np.argmax(avg_probs)])[0]\n",
        "    \n",
        "    # If the label is not in the filtered candidate list, we fallback to the first filtered candidate.\n",
        "    if final_label not in filtered_top5:\n",
        "        final_label = filtered_top5[0]\n",
        "    \n",
        "    final_mixed_test_preds.append(final_label)\n",
        "\n",
        "# 4. Export final predictions to CSV.\n",
        "output_file = \"predictions/filtered_weighted_pred_labels_test.csv\"\n",
        "with open(output_file, \"w\", encoding=\"utf-8\") as f:\n",
        "    f.write(\"ID,Label\\n\")\n",
        "    for idx, label in enumerate(final_mixed_test_preds):\n",
        "        f.write(f\"{idx+1},{label}\\n\")\n",
        "print(f\"Final test predictions exported to {output_file}\")"
      ]
    },
    {
      "cell_type": "code",
      "execution_count": null,
      "metadata": {},
      "outputs": [
        {
          "name": "stdout",
          "output_type": "stream",
          "text": [
            "Final test predictions exported to final_test_predictions_group_based.csv\n"
          ]
        }
      ],
      "source": [
        "import pandas as pd\n",
        "\n",
        "# --- Group-based final prediction for Test Set ---\n",
        "\n",
        "# Create a DataFrame with test predictions.\n",
        "# 'test_preds_labels' are the DistilBERT predictions from predict_and_save,\n",
        "# and 'fasttext_test_preds' are the FastText predictions computed earlier.\n",
        "df_test = pd.DataFrame({\n",
        "    'distilbert_pred': test_preds_labels,   # from predict_and_save on test set\n",
        "    'fasttext_pred': fasttext_test_preds      # computed FastText predictions on test set\n",
        "})\n",
        "\n",
        "# Define a function to choose the final prediction based on group performance.\n",
        "# It looks up the group (defined by the tuple of predictions) in group_stats,\n",
        "# and if the FastText accuracy in that group is higher than DistilBERT's, it returns FastText's prediction.\n",
        "# Otherwise, it returns DistilBERT's prediction.\n",
        "def choose_prediction(row):\n",
        "    # Look up group stats computed on the evaluation set.\n",
        "    group = group_stats[\n",
        "        (group_stats['distilbert_pred'] == row['distilbert_pred']) &\n",
        "        (group_stats['fasttext_pred'] == row['fasttext_pred'])\n",
        "    ]\n",
        "    if not group.empty:\n",
        "        d_acc = group['distilbert_accuracy'].values[0]\n",
        "        f_acc = group['fasttext_accuracy'].values[0]\n",
        "        return row['fasttext_pred'] if f_acc > d_acc else row['distilbert_pred']\n",
        "    else:\n",
        "        # Fallback: if no group stats exist for this combination, default to DistilBERT's prediction.\n",
        "        return row['distilbert_pred']\n",
        "\n",
        "# Apply the decision rule to each test sample.\n",
        "df_test['final_pred'] = df_test.apply(choose_prediction, axis=1)\n",
        "\n",
        "# Export final test predictions to CSV.\n",
        "output_file = \"predictions/final_test_predictions_group_based.csv\"\n",
        "# We'll export a CSV with two columns: ID and Label. ID should have 1-based indices. Add 1 to ID\n",
        "# df_test.reset_index(drop=True, inplace=True)\n",
        "if df_test.index[0] == 0:\n",
        "    df_test.index += 1\n",
        "df_test[['final_pred']].to_csv(output_file, index_label=\"ID\", header=[\"Label\"])\n",
        "print(f\"Final test predictions exported to {output_file}\")"
      ]
    },
    {
      "cell_type": "code",
      "execution_count": null,
      "metadata": {},
      "outputs": [],
      "source": []
    }
  ],
  "metadata": {
    "accelerator": "GPU",
    "colab": {
      "gpuType": "A100",
      "machine_shape": "hm",
      "provenance": []
    },
    "kernelspec": {
      "display_name": ".venv (3.11.8)",
      "language": "python",
      "name": "python3"
    },
    "language_info": {
      "codemirror_mode": {
        "name": "ipython",
        "version": 3
      },
      "file_extension": ".py",
      "mimetype": "text/x-python",
      "name": "python",
      "nbconvert_exporter": "python",
      "pygments_lexer": "ipython3",
      "version": "3.11.8"
    },
    "widgets": {
      "application/vnd.jupyter.widget-state+json": {
        "01b6fe97e5f74c7c9517fa07c0cc0c36": {
          "model_module": "@jupyter-widgets/controls",
          "model_module_version": "1.5.0",
          "model_name": "HBoxModel",
          "state": {
            "_dom_classes": [],
            "_model_module": "@jupyter-widgets/controls",
            "_model_module_version": "1.5.0",
            "_model_name": "HBoxModel",
            "_view_count": null,
            "_view_module": "@jupyter-widgets/controls",
            "_view_module_version": "1.5.0",
            "_view_name": "HBoxView",
            "box_style": "",
            "children": [
              "IPY_MODEL_c5368ee9b39e45e39e0b2499a300218c",
              "IPY_MODEL_a4a66425b84d428db2ff26b0013442ec",
              "IPY_MODEL_d81bf88b18df429194ef7f98d32cfc4f"
            ],
            "layout": "IPY_MODEL_316f4d59e38a4b88ab2ba5676808bd27"
          }
        },
        "066f1ed42d8f46bfa826ed1fc9e08156": {
          "model_module": "@jupyter-widgets/base",
          "model_module_version": "1.2.0",
          "model_name": "LayoutModel",
          "state": {
            "_model_module": "@jupyter-widgets/base",
            "_model_module_version": "1.2.0",
            "_model_name": "LayoutModel",
            "_view_count": null,
            "_view_module": "@jupyter-widgets/base",
            "_view_module_version": "1.2.0",
            "_view_name": "LayoutView",
            "align_content": null,
            "align_items": null,
            "align_self": null,
            "border": null,
            "bottom": null,
            "display": null,
            "flex": null,
            "flex_flow": null,
            "grid_area": null,
            "grid_auto_columns": null,
            "grid_auto_flow": null,
            "grid_auto_rows": null,
            "grid_column": null,
            "grid_gap": null,
            "grid_row": null,
            "grid_template_areas": null,
            "grid_template_columns": null,
            "grid_template_rows": null,
            "height": null,
            "justify_content": null,
            "justify_items": null,
            "left": null,
            "margin": null,
            "max_height": null,
            "max_width": null,
            "min_height": null,
            "min_width": null,
            "object_fit": null,
            "object_position": null,
            "order": null,
            "overflow": null,
            "overflow_x": null,
            "overflow_y": null,
            "padding": null,
            "right": null,
            "top": null,
            "visibility": null,
            "width": null
          }
        },
        "07bff1ce00164e25a8fc2c8470daa9a1": {
          "model_module": "@jupyter-widgets/controls",
          "model_module_version": "1.5.0",
          "model_name": "DescriptionStyleModel",
          "state": {
            "_model_module": "@jupyter-widgets/controls",
            "_model_module_version": "1.5.0",
            "_model_name": "DescriptionStyleModel",
            "_view_count": null,
            "_view_module": "@jupyter-widgets/base",
            "_view_module_version": "1.2.0",
            "_view_name": "StyleView",
            "description_width": ""
          }
        },
        "28cb434a518d4cd48108a31a1d36ae94": {
          "model_module": "@jupyter-widgets/controls",
          "model_module_version": "1.5.0",
          "model_name": "ProgressStyleModel",
          "state": {
            "_model_module": "@jupyter-widgets/controls",
            "_model_module_version": "1.5.0",
            "_model_name": "ProgressStyleModel",
            "_view_count": null,
            "_view_module": "@jupyter-widgets/base",
            "_view_module_version": "1.2.0",
            "_view_name": "StyleView",
            "bar_color": null,
            "description_width": ""
          }
        },
        "316f4d59e38a4b88ab2ba5676808bd27": {
          "model_module": "@jupyter-widgets/base",
          "model_module_version": "1.2.0",
          "model_name": "LayoutModel",
          "state": {
            "_model_module": "@jupyter-widgets/base",
            "_model_module_version": "1.2.0",
            "_model_name": "LayoutModel",
            "_view_count": null,
            "_view_module": "@jupyter-widgets/base",
            "_view_module_version": "1.2.0",
            "_view_name": "LayoutView",
            "align_content": null,
            "align_items": null,
            "align_self": null,
            "border": null,
            "bottom": null,
            "display": null,
            "flex": null,
            "flex_flow": null,
            "grid_area": null,
            "grid_auto_columns": null,
            "grid_auto_flow": null,
            "grid_auto_rows": null,
            "grid_column": null,
            "grid_gap": null,
            "grid_row": null,
            "grid_template_areas": null,
            "grid_template_columns": null,
            "grid_template_rows": null,
            "height": null,
            "justify_content": null,
            "justify_items": null,
            "left": null,
            "margin": null,
            "max_height": null,
            "max_width": null,
            "min_height": null,
            "min_width": null,
            "object_fit": null,
            "object_position": null,
            "order": null,
            "overflow": null,
            "overflow_x": null,
            "overflow_y": null,
            "padding": null,
            "right": null,
            "top": null,
            "visibility": null,
            "width": null
          }
        },
        "408598d052b542cdbd749c6563136c76": {
          "model_module": "@jupyter-widgets/base",
          "model_module_version": "1.2.0",
          "model_name": "LayoutModel",
          "state": {
            "_model_module": "@jupyter-widgets/base",
            "_model_module_version": "1.2.0",
            "_model_name": "LayoutModel",
            "_view_count": null,
            "_view_module": "@jupyter-widgets/base",
            "_view_module_version": "1.2.0",
            "_view_name": "LayoutView",
            "align_content": null,
            "align_items": null,
            "align_self": null,
            "border": null,
            "bottom": null,
            "display": null,
            "flex": null,
            "flex_flow": null,
            "grid_area": null,
            "grid_auto_columns": null,
            "grid_auto_flow": null,
            "grid_auto_rows": null,
            "grid_column": null,
            "grid_gap": null,
            "grid_row": null,
            "grid_template_areas": null,
            "grid_template_columns": null,
            "grid_template_rows": null,
            "height": null,
            "justify_content": null,
            "justify_items": null,
            "left": null,
            "margin": null,
            "max_height": null,
            "max_width": null,
            "min_height": null,
            "min_width": null,
            "object_fit": null,
            "object_position": null,
            "order": null,
            "overflow": null,
            "overflow_x": null,
            "overflow_y": null,
            "padding": null,
            "right": null,
            "top": null,
            "visibility": null,
            "width": null
          }
        },
        "4ef12ffb82a04c92ac22bd8b10dd2739": {
          "model_module": "@jupyter-widgets/controls",
          "model_module_version": "1.5.0",
          "model_name": "ProgressStyleModel",
          "state": {
            "_model_module": "@jupyter-widgets/controls",
            "_model_module_version": "1.5.0",
            "_model_name": "ProgressStyleModel",
            "_view_count": null,
            "_view_module": "@jupyter-widgets/base",
            "_view_module_version": "1.2.0",
            "_view_name": "StyleView",
            "bar_color": null,
            "description_width": ""
          }
        },
        "521d0590b68849a1821357f90f29db9b": {
          "model_module": "@jupyter-widgets/controls",
          "model_module_version": "1.5.0",
          "model_name": "DescriptionStyleModel",
          "state": {
            "_model_module": "@jupyter-widgets/controls",
            "_model_module_version": "1.5.0",
            "_model_name": "DescriptionStyleModel",
            "_view_count": null,
            "_view_module": "@jupyter-widgets/base",
            "_view_module_version": "1.2.0",
            "_view_name": "StyleView",
            "description_width": ""
          }
        },
        "56bbfdc9aecc40f1bdf952c97f0bbfa7": {
          "model_module": "@jupyter-widgets/base",
          "model_module_version": "1.2.0",
          "model_name": "LayoutModel",
          "state": {
            "_model_module": "@jupyter-widgets/base",
            "_model_module_version": "1.2.0",
            "_model_name": "LayoutModel",
            "_view_count": null,
            "_view_module": "@jupyter-widgets/base",
            "_view_module_version": "1.2.0",
            "_view_name": "LayoutView",
            "align_content": null,
            "align_items": null,
            "align_self": null,
            "border": null,
            "bottom": null,
            "display": null,
            "flex": null,
            "flex_flow": null,
            "grid_area": null,
            "grid_auto_columns": null,
            "grid_auto_flow": null,
            "grid_auto_rows": null,
            "grid_column": null,
            "grid_gap": null,
            "grid_row": null,
            "grid_template_areas": null,
            "grid_template_columns": null,
            "grid_template_rows": null,
            "height": null,
            "justify_content": null,
            "justify_items": null,
            "left": null,
            "margin": null,
            "max_height": null,
            "max_width": null,
            "min_height": null,
            "min_width": null,
            "object_fit": null,
            "object_position": null,
            "order": null,
            "overflow": null,
            "overflow_x": null,
            "overflow_y": null,
            "padding": null,
            "right": null,
            "top": null,
            "visibility": null,
            "width": null
          }
        },
        "63c62d08192e4097a619db462ce75c4c": {
          "model_module": "@jupyter-widgets/base",
          "model_module_version": "1.2.0",
          "model_name": "LayoutModel",
          "state": {
            "_model_module": "@jupyter-widgets/base",
            "_model_module_version": "1.2.0",
            "_model_name": "LayoutModel",
            "_view_count": null,
            "_view_module": "@jupyter-widgets/base",
            "_view_module_version": "1.2.0",
            "_view_name": "LayoutView",
            "align_content": null,
            "align_items": null,
            "align_self": null,
            "border": null,
            "bottom": null,
            "display": null,
            "flex": null,
            "flex_flow": null,
            "grid_area": null,
            "grid_auto_columns": null,
            "grid_auto_flow": null,
            "grid_auto_rows": null,
            "grid_column": null,
            "grid_gap": null,
            "grid_row": null,
            "grid_template_areas": null,
            "grid_template_columns": null,
            "grid_template_rows": null,
            "height": null,
            "justify_content": null,
            "justify_items": null,
            "left": null,
            "margin": null,
            "max_height": null,
            "max_width": null,
            "min_height": null,
            "min_width": null,
            "object_fit": null,
            "object_position": null,
            "order": null,
            "overflow": null,
            "overflow_x": null,
            "overflow_y": null,
            "padding": null,
            "right": null,
            "top": null,
            "visibility": null,
            "width": null
          }
        },
        "6d39a284511240db8be1efd31ca16cd9": {
          "model_module": "@jupyter-widgets/base",
          "model_module_version": "1.2.0",
          "model_name": "LayoutModel",
          "state": {
            "_model_module": "@jupyter-widgets/base",
            "_model_module_version": "1.2.0",
            "_model_name": "LayoutModel",
            "_view_count": null,
            "_view_module": "@jupyter-widgets/base",
            "_view_module_version": "1.2.0",
            "_view_name": "LayoutView",
            "align_content": null,
            "align_items": null,
            "align_self": null,
            "border": null,
            "bottom": null,
            "display": null,
            "flex": null,
            "flex_flow": null,
            "grid_area": null,
            "grid_auto_columns": null,
            "grid_auto_flow": null,
            "grid_auto_rows": null,
            "grid_column": null,
            "grid_gap": null,
            "grid_row": null,
            "grid_template_areas": null,
            "grid_template_columns": null,
            "grid_template_rows": null,
            "height": null,
            "justify_content": null,
            "justify_items": null,
            "left": null,
            "margin": null,
            "max_height": null,
            "max_width": null,
            "min_height": null,
            "min_width": null,
            "object_fit": null,
            "object_position": null,
            "order": null,
            "overflow": null,
            "overflow_x": null,
            "overflow_y": null,
            "padding": null,
            "right": null,
            "top": null,
            "visibility": null,
            "width": null
          }
        },
        "6e1790a729cc47a6b16e1c17cf987686": {
          "model_module": "@jupyter-widgets/base",
          "model_module_version": "1.2.0",
          "model_name": "LayoutModel",
          "state": {
            "_model_module": "@jupyter-widgets/base",
            "_model_module_version": "1.2.0",
            "_model_name": "LayoutModel",
            "_view_count": null,
            "_view_module": "@jupyter-widgets/base",
            "_view_module_version": "1.2.0",
            "_view_name": "LayoutView",
            "align_content": null,
            "align_items": null,
            "align_self": null,
            "border": null,
            "bottom": null,
            "display": null,
            "flex": null,
            "flex_flow": null,
            "grid_area": null,
            "grid_auto_columns": null,
            "grid_auto_flow": null,
            "grid_auto_rows": null,
            "grid_column": null,
            "grid_gap": null,
            "grid_row": null,
            "grid_template_areas": null,
            "grid_template_columns": null,
            "grid_template_rows": null,
            "height": null,
            "justify_content": null,
            "justify_items": null,
            "left": null,
            "margin": null,
            "max_height": null,
            "max_width": null,
            "min_height": null,
            "min_width": null,
            "object_fit": null,
            "object_position": null,
            "order": null,
            "overflow": null,
            "overflow_x": null,
            "overflow_y": null,
            "padding": null,
            "right": null,
            "top": null,
            "visibility": null,
            "width": null
          }
        },
        "8935153f8fca40259a63e402a7fd27bc": {
          "model_module": "@jupyter-widgets/controls",
          "model_module_version": "1.5.0",
          "model_name": "DescriptionStyleModel",
          "state": {
            "_model_module": "@jupyter-widgets/controls",
            "_model_module_version": "1.5.0",
            "_model_name": "DescriptionStyleModel",
            "_view_count": null,
            "_view_module": "@jupyter-widgets/base",
            "_view_module_version": "1.2.0",
            "_view_name": "StyleView",
            "description_width": ""
          }
        },
        "9d8bd047d69946d0a345f04b1d84341b": {
          "model_module": "@jupyter-widgets/controls",
          "model_module_version": "1.5.0",
          "model_name": "DescriptionStyleModel",
          "state": {
            "_model_module": "@jupyter-widgets/controls",
            "_model_module_version": "1.5.0",
            "_model_name": "DescriptionStyleModel",
            "_view_count": null,
            "_view_module": "@jupyter-widgets/base",
            "_view_module_version": "1.2.0",
            "_view_name": "StyleView",
            "description_width": ""
          }
        },
        "a4a66425b84d428db2ff26b0013442ec": {
          "model_module": "@jupyter-widgets/controls",
          "model_module_version": "1.5.0",
          "model_name": "FloatProgressModel",
          "state": {
            "_dom_classes": [],
            "_model_module": "@jupyter-widgets/controls",
            "_model_module_version": "1.5.0",
            "_model_name": "FloatProgressModel",
            "_view_count": null,
            "_view_module": "@jupyter-widgets/controls",
            "_view_module_version": "1.5.0",
            "_view_name": "ProgressView",
            "bar_style": "success",
            "description": "",
            "description_tooltip": null,
            "layout": "IPY_MODEL_408598d052b542cdbd749c6563136c76",
            "max": 190567,
            "min": 0,
            "orientation": "horizontal",
            "style": "IPY_MODEL_28cb434a518d4cd48108a31a1d36ae94",
            "value": 190567
          }
        },
        "ab69607fc7dd44b3b8a517b78befcd98": {
          "model_module": "@jupyter-widgets/controls",
          "model_module_version": "1.5.0",
          "model_name": "HTMLModel",
          "state": {
            "_dom_classes": [],
            "_model_module": "@jupyter-widgets/controls",
            "_model_module_version": "1.5.0",
            "_model_name": "HTMLModel",
            "_view_count": null,
            "_view_module": "@jupyter-widgets/controls",
            "_view_module_version": "1.5.0",
            "_view_name": "HTMLView",
            "description": "",
            "description_tooltip": null,
            "layout": "IPY_MODEL_066f1ed42d8f46bfa826ed1fc9e08156",
            "placeholder": "​",
            "style": "IPY_MODEL_07bff1ce00164e25a8fc2c8470daa9a1",
            "value": " 190599/190599 [00:40&lt;00:00, 5136.00 examples/s]"
          }
        },
        "ae2443bde930468abaf07775d73b4d38": {
          "model_module": "@jupyter-widgets/controls",
          "model_module_version": "1.5.0",
          "model_name": "HTMLModel",
          "state": {
            "_dom_classes": [],
            "_model_module": "@jupyter-widgets/controls",
            "_model_module_version": "1.5.0",
            "_model_name": "HTMLModel",
            "_view_count": null,
            "_view_module": "@jupyter-widgets/controls",
            "_view_module_version": "1.5.0",
            "_view_name": "HTMLView",
            "description": "",
            "description_tooltip": null,
            "layout": "IPY_MODEL_63c62d08192e4097a619db462ce75c4c",
            "placeholder": "​",
            "style": "IPY_MODEL_9d8bd047d69946d0a345f04b1d84341b",
            "value": "Map: 100%"
          }
        },
        "c39a4fd23c3b4d6c8965ca77d3e4c12d": {
          "model_module": "@jupyter-widgets/controls",
          "model_module_version": "1.5.0",
          "model_name": "FloatProgressModel",
          "state": {
            "_dom_classes": [],
            "_model_module": "@jupyter-widgets/controls",
            "_model_module_version": "1.5.0",
            "_model_name": "FloatProgressModel",
            "_view_count": null,
            "_view_module": "@jupyter-widgets/controls",
            "_view_module_version": "1.5.0",
            "_view_name": "ProgressView",
            "bar_style": "success",
            "description": "",
            "description_tooltip": null,
            "layout": "IPY_MODEL_6d39a284511240db8be1efd31ca16cd9",
            "max": 190599,
            "min": 0,
            "orientation": "horizontal",
            "style": "IPY_MODEL_4ef12ffb82a04c92ac22bd8b10dd2739",
            "value": 190599
          }
        },
        "c5368ee9b39e45e39e0b2499a300218c": {
          "model_module": "@jupyter-widgets/controls",
          "model_module_version": "1.5.0",
          "model_name": "HTMLModel",
          "state": {
            "_dom_classes": [],
            "_model_module": "@jupyter-widgets/controls",
            "_model_module_version": "1.5.0",
            "_model_name": "HTMLModel",
            "_view_count": null,
            "_view_module": "@jupyter-widgets/controls",
            "_view_module_version": "1.5.0",
            "_view_name": "HTMLView",
            "description": "",
            "description_tooltip": null,
            "layout": "IPY_MODEL_6e1790a729cc47a6b16e1c17cf987686",
            "placeholder": "​",
            "style": "IPY_MODEL_8935153f8fca40259a63e402a7fd27bc",
            "value": "Map: 100%"
          }
        },
        "c77173030f144652bc514297aaa33c3f": {
          "model_module": "@jupyter-widgets/base",
          "model_module_version": "1.2.0",
          "model_name": "LayoutModel",
          "state": {
            "_model_module": "@jupyter-widgets/base",
            "_model_module_version": "1.2.0",
            "_model_name": "LayoutModel",
            "_view_count": null,
            "_view_module": "@jupyter-widgets/base",
            "_view_module_version": "1.2.0",
            "_view_name": "LayoutView",
            "align_content": null,
            "align_items": null,
            "align_self": null,
            "border": null,
            "bottom": null,
            "display": null,
            "flex": null,
            "flex_flow": null,
            "grid_area": null,
            "grid_auto_columns": null,
            "grid_auto_flow": null,
            "grid_auto_rows": null,
            "grid_column": null,
            "grid_gap": null,
            "grid_row": null,
            "grid_template_areas": null,
            "grid_template_columns": null,
            "grid_template_rows": null,
            "height": null,
            "justify_content": null,
            "justify_items": null,
            "left": null,
            "margin": null,
            "max_height": null,
            "max_width": null,
            "min_height": null,
            "min_width": null,
            "object_fit": null,
            "object_position": null,
            "order": null,
            "overflow": null,
            "overflow_x": null,
            "overflow_y": null,
            "padding": null,
            "right": null,
            "top": null,
            "visibility": null,
            "width": null
          }
        },
        "d007ef18eb8c418986e56c24a2d00c86": {
          "model_module": "@jupyter-widgets/controls",
          "model_module_version": "1.5.0",
          "model_name": "HBoxModel",
          "state": {
            "_dom_classes": [],
            "_model_module": "@jupyter-widgets/controls",
            "_model_module_version": "1.5.0",
            "_model_name": "HBoxModel",
            "_view_count": null,
            "_view_module": "@jupyter-widgets/controls",
            "_view_module_version": "1.5.0",
            "_view_name": "HBoxView",
            "box_style": "",
            "children": [
              "IPY_MODEL_ae2443bde930468abaf07775d73b4d38",
              "IPY_MODEL_c39a4fd23c3b4d6c8965ca77d3e4c12d",
              "IPY_MODEL_ab69607fc7dd44b3b8a517b78befcd98"
            ],
            "layout": "IPY_MODEL_56bbfdc9aecc40f1bdf952c97f0bbfa7"
          }
        },
        "d81bf88b18df429194ef7f98d32cfc4f": {
          "model_module": "@jupyter-widgets/controls",
          "model_module_version": "1.5.0",
          "model_name": "HTMLModel",
          "state": {
            "_dom_classes": [],
            "_model_module": "@jupyter-widgets/controls",
            "_model_module_version": "1.5.0",
            "_model_name": "HTMLModel",
            "_view_count": null,
            "_view_module": "@jupyter-widgets/controls",
            "_view_module_version": "1.5.0",
            "_view_name": "HTMLView",
            "description": "",
            "description_tooltip": null,
            "layout": "IPY_MODEL_c77173030f144652bc514297aaa33c3f",
            "placeholder": "​",
            "style": "IPY_MODEL_521d0590b68849a1821357f90f29db9b",
            "value": " 190567/190567 [00:38&lt;00:00, 5099.09 examples/s]"
          }
        }
      }
    }
  },
  "nbformat": 4,
  "nbformat_minor": 0
}
